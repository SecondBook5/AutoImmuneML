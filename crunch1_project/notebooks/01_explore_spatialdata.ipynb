{
 "cells": [
  {
   "metadata": {},
   "cell_type": "markdown",
   "source": [
    "# 01 - SpatialData Exploration\n",
    "\n",
    "## **Objective**\n",
    "This notebook explores and analyzes the structure of the provided SpatialData object for **Crunch 1** of the Autoimmune Disease Machine Learning Challenge. The following tasks are performed to prepare the dataset for downstream modeling:\n",
    "\n",
    "1. Load the `.zarr` dataset into a `SpatialData` object.\n",
    "2. Validate the dataset to ensure it contains required components.\n",
    "3. Visualize key elements, including H&E images and nucleus segmentation masks.\n",
    "4. Preprocess the dataset, optionally subsampling large data for efficiency.\n",
    "5. Extract nuclei coordinates and link them to gene expression profiles.\n",
    "6. Create interactive visualizations to analyze tissue and gene expression.\n",
    "\n",
    "---\n",
    "\n",
    "## **Dataset Overview**\n",
    "The dataset includes:\n",
    "- **H&E Pathology Images**:\n",
    "  - `HE_original`: The original H&E image in its native pixel coordinates.\n",
    "  - `HE_nuc_original`: The nucleus segmentation mask associated with the H&E image.\n",
    "\n",
    "- **Gene Expression Data**:\n",
    "  - `anucleus`: Aggregated gene expression profiles for each nucleus, with log1p-normalized values for 460 genes.\n",
    "\n",
    "---\n",
    "\n",
    "## **Steps in This Notebook**\n",
    "1. **Environment Setup**: Modules are imported, and the `SpatialDataHandler` is initialized.\n",
    "2. **Data Loading and Preprocessing**: The dataset is loaded, validated, and optionally subsampled.\n",
    "3. **Visualization**: Key dataset components are visualized for initial exploration.\n",
    "4. **Data Extraction**: Nuclei coordinates are linked to gene expression profiles.\n",
    "5. **Advanced Visualization**: Interactive visualizations are created to explore tissue and gene expression relationships.\n",
    "\n",
    "---\n",
    "\n",
    "## **Expected Outputs**\n",
    "- A summary of the dataset structure and its components.\n",
    "- Visualizations of H&E images and nucleus segmentation masks.\n",
    "- A DataFrame linking nuclei coordinates to gene expression data.\n",
    "- Interactive visualizations for deeper analysis of tissue structure and gene expression.\n",
    "\n",
    "---\n"
   ],
   "id": "dbb6a9ef8bb74526"
  },
  {
   "metadata": {},
   "cell_type": "markdown",
   "source": [
    "# **Step 1: Environment Setup**\n",
    "\n",
    "This step prepares the environment for data exploration. Tasks include:\n",
    "1. Importing required modules and libraries.\n",
    "2. Parsing the `config.yaml` file to retrieve project paths.\n",
    "3. Identifying `.zarr` files in the dataset directory (`raw_dir`).\n",
    "4. Validating the environment to ensure necessary files and dependencies are present.\n",
    "5. Initializing a `SpatialDataHandler` for a selected `.zarr` dataset.\n"
   ],
   "id": "bf532d239feafee0"
  },
  {
   "metadata": {
    "ExecuteTime": {
     "end_time": "2024-12-19T03:20:46.179709Z",
     "start_time": "2024-12-19T03:20:43.977954Z"
    }
   },
   "cell_type": "code",
   "source": [
    "# Install missing dependencies (if necessary)\n",
    "%pip install spatialdata matplotlib plotly pandas numpy pyyaml tqdm"
   ],
   "id": "28b41401c73713a7",
   "outputs": [
    {
     "name": "stdout",
     "output_type": "stream",
     "text": [
      "/bin/bash: warning: setlocale: LC_ALL: cannot change locale (en_US.UTF-8)\r\n",
      "Requirement already satisfied: spatialdata in /home/secondbook5/micromamba/envs/autoimmune_ml/lib/python3.11/site-packages (0.2.6)\r\n",
      "Requirement already satisfied: matplotlib in /home/secondbook5/micromamba/envs/autoimmune_ml/lib/python3.11/site-packages (3.9.3)\r\n",
      "Requirement already satisfied: plotly in /home/secondbook5/micromamba/envs/autoimmune_ml/lib/python3.11/site-packages (5.24.1)\r\n",
      "Requirement already satisfied: pandas in /home/secondbook5/micromamba/envs/autoimmune_ml/lib/python3.11/site-packages (2.2.3)\r\n",
      "Requirement already satisfied: numpy in /home/secondbook5/micromamba/envs/autoimmune_ml/lib/python3.11/site-packages (1.26.4)\r\n",
      "Requirement already satisfied: pyyaml in /home/secondbook5/micromamba/envs/autoimmune_ml/lib/python3.11/site-packages (6.0.2)\r\n",
      "Requirement already satisfied: tqdm in /home/secondbook5/micromamba/envs/autoimmune_ml/lib/python3.11/site-packages (4.67.1)\r\n",
      "Requirement already satisfied: anndata>=0.9.1 in /home/secondbook5/micromamba/envs/autoimmune_ml/lib/python3.11/site-packages (from spatialdata) (0.11.1)\r\n",
      "Requirement already satisfied: click in /home/secondbook5/micromamba/envs/autoimmune_ml/lib/python3.11/site-packages (from spatialdata) (8.1.7)\r\n",
      "Requirement already satisfied: dask-image in /home/secondbook5/micromamba/envs/autoimmune_ml/lib/python3.11/site-packages (from spatialdata) (2024.5.3)\r\n",
      "Requirement already satisfied: dask>=2024.4.1 in /home/secondbook5/micromamba/envs/autoimmune_ml/lib/python3.11/site-packages (from spatialdata) (2024.12.0)\r\n",
      "Requirement already satisfied: fsspec<=2023.6 in /home/secondbook5/micromamba/envs/autoimmune_ml/lib/python3.11/site-packages (from spatialdata) (2023.6.0)\r\n",
      "Requirement already satisfied: geopandas>=0.14 in /home/secondbook5/micromamba/envs/autoimmune_ml/lib/python3.11/site-packages (from spatialdata) (1.0.1)\r\n",
      "Requirement already satisfied: multiscale-spatial-image>=2.0.2 in /home/secondbook5/micromamba/envs/autoimmune_ml/lib/python3.11/site-packages (from spatialdata) (2.0.2)\r\n",
      "Requirement already satisfied: networkx in /home/secondbook5/micromamba/envs/autoimmune_ml/lib/python3.11/site-packages (from spatialdata) (3.4.2)\r\n",
      "Requirement already satisfied: numba in /home/secondbook5/micromamba/envs/autoimmune_ml/lib/python3.11/site-packages (from spatialdata) (0.60.0)\r\n",
      "Requirement already satisfied: ome-zarr>=0.8.4 in /home/secondbook5/micromamba/envs/autoimmune_ml/lib/python3.11/site-packages (from spatialdata) (0.9.0)\r\n",
      "Requirement already satisfied: pooch in /home/secondbook5/micromamba/envs/autoimmune_ml/lib/python3.11/site-packages (from spatialdata) (1.8.2)\r\n",
      "Requirement already satisfied: pyarrow in /home/secondbook5/micromamba/envs/autoimmune_ml/lib/python3.11/site-packages (from spatialdata) (18.1.0)\r\n",
      "Requirement already satisfied: rich in /home/secondbook5/micromamba/envs/autoimmune_ml/lib/python3.11/site-packages (from spatialdata) (13.9.4)\r\n",
      "Requirement already satisfied: scikit-image in /home/secondbook5/micromamba/envs/autoimmune_ml/lib/python3.11/site-packages (from spatialdata) (0.24.0)\r\n",
      "Requirement already satisfied: scipy in /home/secondbook5/micromamba/envs/autoimmune_ml/lib/python3.11/site-packages (from spatialdata) (1.14.1)\r\n",
      "Requirement already satisfied: setuptools in /home/secondbook5/micromamba/envs/autoimmune_ml/lib/python3.11/site-packages (from spatialdata) (75.6.0)\r\n",
      "Requirement already satisfied: shapely>=2.0.1 in /home/secondbook5/micromamba/envs/autoimmune_ml/lib/python3.11/site-packages (from spatialdata) (2.0.6)\r\n",
      "Requirement already satisfied: spatial-image>=1.1.0 in /home/secondbook5/micromamba/envs/autoimmune_ml/lib/python3.11/site-packages (from spatialdata) (1.1.0)\r\n",
      "Requirement already satisfied: typing-extensions>=4.8.0 in /home/secondbook5/micromamba/envs/autoimmune_ml/lib/python3.11/site-packages (from spatialdata) (4.12.2)\r\n",
      "Requirement already satisfied: xarray-schema in /home/secondbook5/micromamba/envs/autoimmune_ml/lib/python3.11/site-packages (from spatialdata) (0.0.3)\r\n",
      "Requirement already satisfied: xarray-spatial>=0.3.5 in /home/secondbook5/micromamba/envs/autoimmune_ml/lib/python3.11/site-packages (from spatialdata) (0.4.0)\r\n",
      "Requirement already satisfied: xarray>=2024.10.0 in /home/secondbook5/micromamba/envs/autoimmune_ml/lib/python3.11/site-packages (from spatialdata) (2024.11.0)\r\n",
      "Requirement already satisfied: zarr<3 in /home/secondbook5/micromamba/envs/autoimmune_ml/lib/python3.11/site-packages (from spatialdata) (2.18.3)\r\n",
      "Requirement already satisfied: contourpy>=1.0.1 in /home/secondbook5/micromamba/envs/autoimmune_ml/lib/python3.11/site-packages (from matplotlib) (1.3.1)\r\n",
      "Requirement already satisfied: cycler>=0.10 in /home/secondbook5/micromamba/envs/autoimmune_ml/lib/python3.11/site-packages (from matplotlib) (0.12.1)\r\n",
      "Requirement already satisfied: fonttools>=4.22.0 in /home/secondbook5/micromamba/envs/autoimmune_ml/lib/python3.11/site-packages (from matplotlib) (4.55.2)\r\n",
      "Requirement already satisfied: kiwisolver>=1.3.1 in /home/secondbook5/micromamba/envs/autoimmune_ml/lib/python3.11/site-packages (from matplotlib) (1.4.7)\r\n",
      "Requirement already satisfied: packaging>=20.0 in /home/secondbook5/micromamba/envs/autoimmune_ml/lib/python3.11/site-packages (from matplotlib) (24.2)\r\n",
      "Requirement already satisfied: pillow>=8 in /home/secondbook5/micromamba/envs/autoimmune_ml/lib/python3.11/site-packages (from matplotlib) (11.0.0)\r\n",
      "Requirement already satisfied: pyparsing>=2.3.1 in /home/secondbook5/micromamba/envs/autoimmune_ml/lib/python3.11/site-packages (from matplotlib) (3.2.0)\r\n",
      "Requirement already satisfied: python-dateutil>=2.7 in /home/secondbook5/micromamba/envs/autoimmune_ml/lib/python3.11/site-packages (from matplotlib) (2.9.0.post0)\r\n",
      "Requirement already satisfied: tenacity>=6.2.0 in /home/secondbook5/micromamba/envs/autoimmune_ml/lib/python3.11/site-packages (from plotly) (9.0.0)\r\n",
      "Requirement already satisfied: pytz>=2020.1 in /home/secondbook5/micromamba/envs/autoimmune_ml/lib/python3.11/site-packages (from pandas) (2024.1)\r\n",
      "Requirement already satisfied: tzdata>=2022.7 in /home/secondbook5/micromamba/envs/autoimmune_ml/lib/python3.11/site-packages (from pandas) (2024.2)\r\n",
      "Requirement already satisfied: array-api-compat!=1.5,>1.4 in /home/secondbook5/micromamba/envs/autoimmune_ml/lib/python3.11/site-packages (from anndata>=0.9.1->spatialdata) (1.9.1)\r\n",
      "Requirement already satisfied: h5py>=3.6 in /home/secondbook5/micromamba/envs/autoimmune_ml/lib/python3.11/site-packages (from anndata>=0.9.1->spatialdata) (3.12.1)\r\n",
      "Requirement already satisfied: natsort in /home/secondbook5/micromamba/envs/autoimmune_ml/lib/python3.11/site-packages (from anndata>=0.9.1->spatialdata) (8.4.0)\r\n",
      "Requirement already satisfied: cloudpickle>=3.0.0 in /home/secondbook5/micromamba/envs/autoimmune_ml/lib/python3.11/site-packages (from dask>=2024.4.1->spatialdata) (3.1.0)\r\n",
      "Requirement already satisfied: partd>=1.4.0 in /home/secondbook5/micromamba/envs/autoimmune_ml/lib/python3.11/site-packages (from dask>=2024.4.1->spatialdata) (1.4.2)\r\n",
      "Requirement already satisfied: toolz>=0.10.0 in /home/secondbook5/micromamba/envs/autoimmune_ml/lib/python3.11/site-packages (from dask>=2024.4.1->spatialdata) (1.0.0)\r\n",
      "Requirement already satisfied: importlib_metadata>=4.13.0 in /home/secondbook5/micromamba/envs/autoimmune_ml/lib/python3.11/site-packages (from dask>=2024.4.1->spatialdata) (8.5.0)\r\n",
      "Requirement already satisfied: pyogrio>=0.7.2 in /home/secondbook5/micromamba/envs/autoimmune_ml/lib/python3.11/site-packages (from geopandas>=0.14->spatialdata) (0.10.0)\r\n",
      "Requirement already satisfied: pyproj>=3.3.0 in /home/secondbook5/micromamba/envs/autoimmune_ml/lib/python3.11/site-packages (from geopandas>=0.14->spatialdata) (3.7.0)\r\n",
      "Requirement already satisfied: aiohttp<4 in /home/secondbook5/micromamba/envs/autoimmune_ml/lib/python3.11/site-packages (from ome-zarr>=0.8.4->spatialdata) (3.11.10)\r\n",
      "Requirement already satisfied: distributed in /home/secondbook5/micromamba/envs/autoimmune_ml/lib/python3.11/site-packages (from ome-zarr>=0.8.4->spatialdata) (2024.12.0)\r\n",
      "Requirement already satisfied: requests in /home/secondbook5/micromamba/envs/autoimmune_ml/lib/python3.11/site-packages (from ome-zarr>=0.8.4->spatialdata) (2.32.3)\r\n",
      "Requirement already satisfied: six>=1.5 in /home/secondbook5/micromamba/envs/autoimmune_ml/lib/python3.11/site-packages (from python-dateutil>=2.7->matplotlib) (1.17.0)\r\n",
      "Requirement already satisfied: xarray-dataclasses>=1.1.0 in /home/secondbook5/micromamba/envs/autoimmune_ml/lib/python3.11/site-packages (from spatial-image>=1.1.0->spatialdata) (1.9.1)\r\n",
      "Requirement already satisfied: datashader>=0.15.0 in /home/secondbook5/micromamba/envs/autoimmune_ml/lib/python3.11/site-packages (from xarray-spatial>=0.3.5->spatialdata) (0.16.3)\r\n",
      "Requirement already satisfied: asciitree in /home/secondbook5/micromamba/envs/autoimmune_ml/lib/python3.11/site-packages (from zarr<3->spatialdata) (0.3.3)\r\n",
      "Requirement already satisfied: numcodecs>=0.10.0 in /home/secondbook5/micromamba/envs/autoimmune_ml/lib/python3.11/site-packages (from zarr<3->spatialdata) (0.14.1)\r\n",
      "Requirement already satisfied: fasteners in /home/secondbook5/micromamba/envs/autoimmune_ml/lib/python3.11/site-packages (from zarr<3->spatialdata) (0.19)\r\n",
      "Requirement already satisfied: pims>=0.4.1 in /home/secondbook5/micromamba/envs/autoimmune_ml/lib/python3.11/site-packages (from dask-image->spatialdata) (0.7)\r\n",
      "Requirement already satisfied: tifffile>=2018.10.18 in /home/secondbook5/micromamba/envs/autoimmune_ml/lib/python3.11/site-packages (from dask-image->spatialdata) (2024.9.20)\r\n",
      "Requirement already satisfied: llvmlite<0.44,>=0.43.0dev0 in /home/secondbook5/micromamba/envs/autoimmune_ml/lib/python3.11/site-packages (from numba->spatialdata) (0.43.0)\r\n",
      "Requirement already satisfied: platformdirs>=2.5.0 in /home/secondbook5/micromamba/envs/autoimmune_ml/lib/python3.11/site-packages (from pooch->spatialdata) (4.3.6)\r\n",
      "Requirement already satisfied: markdown-it-py>=2.2.0 in /home/secondbook5/micromamba/envs/autoimmune_ml/lib/python3.11/site-packages (from rich->spatialdata) (3.0.0)\r\n",
      "Requirement already satisfied: pygments<3.0.0,>=2.13.0 in /home/secondbook5/micromamba/envs/autoimmune_ml/lib/python3.11/site-packages (from rich->spatialdata) (2.18.0)\r\n",
      "Requirement already satisfied: imageio>=2.33 in /home/secondbook5/micromamba/envs/autoimmune_ml/lib/python3.11/site-packages (from scikit-image->spatialdata) (2.36.1)\r\n",
      "Requirement already satisfied: lazy-loader>=0.4 in /home/secondbook5/micromamba/envs/autoimmune_ml/lib/python3.11/site-packages (from scikit-image->spatialdata) (0.4)\r\n",
      "Requirement already satisfied: aiohappyeyeballs>=2.3.0 in /home/secondbook5/micromamba/envs/autoimmune_ml/lib/python3.11/site-packages (from aiohttp<4->ome-zarr>=0.8.4->spatialdata) (2.4.4)\r\n",
      "Requirement already satisfied: aiosignal>=1.1.2 in /home/secondbook5/micromamba/envs/autoimmune_ml/lib/python3.11/site-packages (from aiohttp<4->ome-zarr>=0.8.4->spatialdata) (1.3.1)\r\n",
      "Requirement already satisfied: attrs>=17.3.0 in /home/secondbook5/micromamba/envs/autoimmune_ml/lib/python3.11/site-packages (from aiohttp<4->ome-zarr>=0.8.4->spatialdata) (24.2.0)\r\n",
      "Requirement already satisfied: frozenlist>=1.1.1 in /home/secondbook5/micromamba/envs/autoimmune_ml/lib/python3.11/site-packages (from aiohttp<4->ome-zarr>=0.8.4->spatialdata) (1.5.0)\r\n",
      "Requirement already satisfied: multidict<7.0,>=4.5 in /home/secondbook5/micromamba/envs/autoimmune_ml/lib/python3.11/site-packages (from aiohttp<4->ome-zarr>=0.8.4->spatialdata) (6.1.0)\r\n",
      "Requirement already satisfied: propcache>=0.2.0 in /home/secondbook5/micromamba/envs/autoimmune_ml/lib/python3.11/site-packages (from aiohttp<4->ome-zarr>=0.8.4->spatialdata) (0.2.1)\r\n",
      "Requirement already satisfied: yarl<2.0,>=1.17.0 in /home/secondbook5/micromamba/envs/autoimmune_ml/lib/python3.11/site-packages (from aiohttp<4->ome-zarr>=0.8.4->spatialdata) (1.18.3)\r\n",
      "Requirement already satisfied: dask-expr<1.2,>=1.1 in /home/secondbook5/micromamba/envs/autoimmune_ml/lib/python3.11/site-packages (from dask[array,dataframe]>=2024.4.1->dask-image->spatialdata) (1.1.20)\r\n",
      "Requirement already satisfied: colorcet in /home/secondbook5/micromamba/envs/autoimmune_ml/lib/python3.11/site-packages (from datashader>=0.15.0->xarray-spatial>=0.3.5->spatialdata) (3.1.0)\r\n",
      "Requirement already satisfied: multipledispatch in /home/secondbook5/micromamba/envs/autoimmune_ml/lib/python3.11/site-packages (from datashader>=0.15.0->xarray-spatial>=0.3.5->spatialdata) (1.0.0)\r\n",
      "Requirement already satisfied: param in /home/secondbook5/micromamba/envs/autoimmune_ml/lib/python3.11/site-packages (from datashader>=0.15.0->xarray-spatial>=0.3.5->spatialdata) (2.1.1)\r\n",
      "Requirement already satisfied: pyct in /home/secondbook5/micromamba/envs/autoimmune_ml/lib/python3.11/site-packages (from datashader>=0.15.0->xarray-spatial>=0.3.5->spatialdata) (0.5.0)\r\n",
      "Requirement already satisfied: s3fs in /home/secondbook5/micromamba/envs/autoimmune_ml/lib/python3.11/site-packages (from fsspec[s3]!=2021.07.0,>=0.8->ome-zarr>=0.8.4->spatialdata) (2023.6.0)\r\n",
      "Requirement already satisfied: zipp>=3.20 in /home/secondbook5/micromamba/envs/autoimmune_ml/lib/python3.11/site-packages (from importlib_metadata>=4.13.0->dask>=2024.4.1->spatialdata) (3.21.0)\r\n",
      "Requirement already satisfied: mdurl~=0.1 in /home/secondbook5/micromamba/envs/autoimmune_ml/lib/python3.11/site-packages (from markdown-it-py>=2.2.0->rich->spatialdata) (0.1.2)\r\n",
      "Requirement already satisfied: locket in /home/secondbook5/micromamba/envs/autoimmune_ml/lib/python3.11/site-packages (from partd>=1.4.0->dask>=2024.4.1->spatialdata) (1.0.0)\r\n",
      "Requirement already satisfied: slicerator>=0.9.8 in /home/secondbook5/micromamba/envs/autoimmune_ml/lib/python3.11/site-packages (from pims>=0.4.1->dask-image->spatialdata) (1.1.0)\r\n",
      "Requirement already satisfied: certifi in /home/secondbook5/micromamba/envs/autoimmune_ml/lib/python3.11/site-packages (from pyogrio>=0.7.2->geopandas>=0.14->spatialdata) (2024.8.30)\r\n",
      "Requirement already satisfied: charset_normalizer<4,>=2 in /home/secondbook5/micromamba/envs/autoimmune_ml/lib/python3.11/site-packages (from requests->ome-zarr>=0.8.4->spatialdata) (3.4.0)\r\n",
      "Requirement already satisfied: idna<4,>=2.5 in /home/secondbook5/micromamba/envs/autoimmune_ml/lib/python3.11/site-packages (from requests->ome-zarr>=0.8.4->spatialdata) (3.10)\r\n",
      "Requirement already satisfied: urllib3<3,>=1.21.1 in /home/secondbook5/micromamba/envs/autoimmune_ml/lib/python3.11/site-packages (from requests->ome-zarr>=0.8.4->spatialdata) (1.26.20)\r\n",
      "Requirement already satisfied: jinja2>=2.10.3 in /home/secondbook5/micromamba/envs/autoimmune_ml/lib/python3.11/site-packages (from distributed->ome-zarr>=0.8.4->spatialdata) (3.1.4)\r\n",
      "Requirement already satisfied: msgpack>=1.0.2 in /home/secondbook5/micromamba/envs/autoimmune_ml/lib/python3.11/site-packages (from distributed->ome-zarr>=0.8.4->spatialdata) (1.1.0)\r\n",
      "Requirement already satisfied: psutil>=5.8.0 in /home/secondbook5/micromamba/envs/autoimmune_ml/lib/python3.11/site-packages (from distributed->ome-zarr>=0.8.4->spatialdata) (6.1.0)\r\n",
      "Requirement already satisfied: sortedcontainers>=2.0.5 in /home/secondbook5/micromamba/envs/autoimmune_ml/lib/python3.11/site-packages (from distributed->ome-zarr>=0.8.4->spatialdata) (2.4.0)\r\n",
      "Requirement already satisfied: tblib>=1.6.0 in /home/secondbook5/micromamba/envs/autoimmune_ml/lib/python3.11/site-packages (from distributed->ome-zarr>=0.8.4->spatialdata) (3.0.0)\r\n",
      "Requirement already satisfied: tornado>=6.2.0 in /home/secondbook5/micromamba/envs/autoimmune_ml/lib/python3.11/site-packages (from distributed->ome-zarr>=0.8.4->spatialdata) (6.4.2)\r\n",
      "Requirement already satisfied: zict>=3.0.0 in /home/secondbook5/micromamba/envs/autoimmune_ml/lib/python3.11/site-packages (from distributed->ome-zarr>=0.8.4->spatialdata) (3.0.0)\r\n",
      "Requirement already satisfied: MarkupSafe>=2.0 in /home/secondbook5/micromamba/envs/autoimmune_ml/lib/python3.11/site-packages (from jinja2>=2.10.3->distributed->ome-zarr>=0.8.4->spatialdata) (3.0.2)\r\n",
      "Requirement already satisfied: aiobotocore~=2.5.0 in /home/secondbook5/micromamba/envs/autoimmune_ml/lib/python3.11/site-packages (from s3fs->fsspec[s3]!=2021.07.0,>=0.8->ome-zarr>=0.8.4->spatialdata) (2.5.4)\r\n",
      "Requirement already satisfied: botocore<1.31.18,>=1.31.17 in /home/secondbook5/micromamba/envs/autoimmune_ml/lib/python3.11/site-packages (from aiobotocore~=2.5.0->s3fs->fsspec[s3]!=2021.07.0,>=0.8->ome-zarr>=0.8.4->spatialdata) (1.31.17)\r\n",
      "Requirement already satisfied: wrapt<2.0.0,>=1.10.10 in /home/secondbook5/micromamba/envs/autoimmune_ml/lib/python3.11/site-packages (from aiobotocore~=2.5.0->s3fs->fsspec[s3]!=2021.07.0,>=0.8->ome-zarr>=0.8.4->spatialdata) (1.17.0)\r\n",
      "Requirement already satisfied: aioitertools<1.0.0,>=0.5.1 in /home/secondbook5/micromamba/envs/autoimmune_ml/lib/python3.11/site-packages (from aiobotocore~=2.5.0->s3fs->fsspec[s3]!=2021.07.0,>=0.8->ome-zarr>=0.8.4->spatialdata) (0.12.0)\r\n",
      "Requirement already satisfied: jmespath<2.0.0,>=0.7.1 in /home/secondbook5/micromamba/envs/autoimmune_ml/lib/python3.11/site-packages (from botocore<1.31.18,>=1.31.17->aiobotocore~=2.5.0->s3fs->fsspec[s3]!=2021.07.0,>=0.8->ome-zarr>=0.8.4->spatialdata) (1.0.1)\r\n",
      "Note: you may need to restart the kernel to use updated packages.\n"
     ]
    }
   ],
   "execution_count": 1
  },
  {
   "metadata": {},
   "cell_type": "markdown",
   "source": [
    "## **Step 1.1: Imports**\n",
    "\n",
    "Import all required libraries for the notebook, ensuring necessary modules for data loading, manipulation, visualization, and validation are available.\n"
   ],
   "id": "98a6ea514a9becad"
  },
  {
   "metadata": {
    "ExecuteTime": {
     "end_time": "2024-12-19T03:20:48.006459Z",
     "start_time": "2024-12-19T03:20:46.210406Z"
    }
   },
   "cell_type": "code",
   "source": [
    "from tqdm import tqdm\n",
    "import numpy as np\n",
    "import pandas as pd\n",
    "import matplotlib.pyplot as plt\n",
    "import plotly.express as px\n",
    "import os\n",
    "import yaml"
   ],
   "id": "2617f42050bb020e",
   "outputs": [],
   "execution_count": 2
  },
  {
   "metadata": {
    "ExecuteTime": {
     "end_time": "2024-12-19T03:20:54.277735Z",
     "start_time": "2024-12-19T03:20:48.149169Z"
    }
   },
   "cell_type": "code",
   "source": [
    "import spatialdata_plot\n",
    "import spatialdata as sd\n",
    "import scanpy as sc"
   ],
   "id": "8bb58efe7dd2d54a",
   "outputs": [
    {
     "name": "stderr",
     "output_type": "stream",
     "text": [
      "/home/secondbook5/micromamba/envs/autoimmune_ml/lib/python3.11/site-packages/dask/dataframe/__init__.py:31: FutureWarning: The legacy Dask DataFrame implementation is deprecated and will be removed in a future version. Set the configuration option `dataframe.query-planning` to `True` or None to enable the new Dask Dataframe implementation and silence this warning.\n",
      "  warnings.warn(\n"
     ]
    }
   ],
   "execution_count": 3
  },
  {
   "metadata": {},
   "cell_type": "markdown",
   "source": [
    "## **Step 1.2: Load `config.yaml` and Set Paths**\n",
    "\n",
    "Parse the `config.yaml` file to retrieve the `raw_dir` path where `.zarr` datasets are stored. The presence of `.zarr` files in the directory is then verified.\n"
   ],
   "id": "b0037e1537fa2d86"
  },
  {
   "metadata": {
    "ExecuteTime": {
     "end_time": "2024-12-19T03:20:54.314911Z",
     "start_time": "2024-12-19T03:20:54.296989Z"
    }
   },
   "cell_type": "code",
   "source": [
    "# Define the relative path to config.yaml\n",
    "config_path = \"../config.yaml\"  # Adjust as needed for your directory structure\n",
    "\n",
    "# Ensure the config.yaml file exists\n",
    "if not os.path.exists(config_path):\n",
    "    raise FileNotFoundError(f\"Configuration file not found at: {config_path}\")\n",
    "\n",
    "# Load the configuration file\n",
    "with open(config_path, \"r\") as file:\n",
    "    config = yaml.safe_load(file)\n",
    "\n",
    "# Extract the raw data directory from the configuration\n",
    "raw_dir = config[\"paths\"][\"raw_dir\"]\n",
    "print(f\"Dataset directory (raw_dir): {raw_dir}\")\n"
   ],
   "id": "4f5cba8474f1a50f",
   "outputs": [
    {
     "name": "stdout",
     "output_type": "stream",
     "text": [
      "Dataset directory (raw_dir): /mnt/d/AutoImmuneML/broad-1-autoimmune-crunch1/data\n"
     ]
    }
   ],
   "execution_count": 4
  },
  {
   "metadata": {
    "ExecuteTime": {
     "end_time": "2024-12-19T03:20:54.360405Z",
     "start_time": "2024-12-19T03:20:54.341378Z"
    }
   },
   "cell_type": "code",
   "source": [
    "# Validate the raw directory and list all `.zarr` files\n",
    "if not os.path.exists(raw_dir):\n",
    "    raise FileNotFoundError(f\"Raw data directory not found: {raw_dir}\")\n",
    "\n",
    "zarr_files = [os.path.join(raw_dir, f) for f in os.listdir(raw_dir) if f.endswith(\".zarr\")]\n",
    "\n",
    "if not zarr_files:\n",
    "    raise FileNotFoundError(f\"No `.zarr` files found in directory: {raw_dir}\")\n",
    "\n",
    "print(f\"Found {len(zarr_files)} `.zarr` files:\")\n",
    "for zarr_file in zarr_files:\n",
    "    print(f\" - {os.path.basename(zarr_file)}\")\n"
   ],
   "id": "f7c325b5f7b586b5",
   "outputs": [
    {
     "name": "stdout",
     "output_type": "stream",
     "text": [
      "Found 8 `.zarr` files:\n",
      " - DC1.zarr\n",
      " - DC5.zarr\n",
      " - UC1_I.zarr\n",
      " - UC1_NI.zarr\n",
      " - UC6_I.zarr\n",
      " - UC6_NI.zarr\n",
      " - UC7_I.zarr\n",
      " - UC9_I.zarr\n"
     ]
    }
   ],
   "execution_count": 5
  },
  {
   "metadata": {},
   "cell_type": "markdown",
   "source": [
    "## **Step 1.3: Initialize `SpatialDataHandler` for One Dataset**\n",
    "\n",
    "Initializes the `SpatialDataHandler` for a single dataset. The dataset is selected either interactively or via default selection. This handler will be used for structured exploration and validation.\n",
    "\n"
   ],
   "id": "d9565eec012a50d0"
  },
  {
   "metadata": {
    "ExecuteTime": {
     "end_time": "2024-12-19T03:20:58.690959Z",
     "start_time": "2024-12-19T03:20:54.401378Z"
    }
   },
   "cell_type": "code",
   "source": [
    "# Display available datasets for selection\n",
    "print(\"Available datasets:\")\n",
    "for i, zarr_file in enumerate(zarr_files):\n",
    "    print(f\"{i + 1}: {os.path.basename(zarr_file)}\")\n",
    "\n",
    "# Select a dataset interactively or default to the first one\n",
    "dataset_index = input(\"Select a dataset by number (default: 1): \")\n",
    "dataset_index = int(dataset_index) - 1 if dataset_index else 0\n",
    "\n",
    "# Validate the selected index\n",
    "if dataset_index < 0 or dataset_index >= len(zarr_files):\n",
    "    raise ValueError(f\"Invalid dataset selection. Please choose a number between 1 and {len(zarr_files)}.\")\n",
    "\n",
    "selected_dataset = os.path.basename(zarr_files[dataset_index])\n",
    "selected_path = zarr_files[dataset_index]\n",
    "print(f\"Selected dataset: {selected_dataset}\")\n"
   ],
   "id": "62fd2d0711ecbb7b",
   "outputs": [
    {
     "name": "stdout",
     "output_type": "stream",
     "text": [
      "Available datasets:\n",
      "1: DC1.zarr\n",
      "2: DC5.zarr\n",
      "3: UC1_I.zarr\n",
      "4: UC1_NI.zarr\n",
      "5: UC6_I.zarr\n",
      "6: UC6_NI.zarr\n",
      "7: UC7_I.zarr\n",
      "8: UC9_I.zarr\n",
      "Selected dataset: UC7_I.zarr\n"
     ]
    }
   ],
   "execution_count": 6
  },
  {
   "cell_type": "code",
   "id": "initial_id",
   "metadata": {
    "collapsed": true,
    "ExecuteTime": {
     "end_time": "2024-12-19T03:20:58.814118Z",
     "start_time": "2024-12-19T03:20:58.791643Z"
    }
   },
   "source": [
    "# Import the SpatialDataHandler class\n",
    "from crunch1_project.src.spatialdata_handler import SpatialDataHandler\n",
    "\n",
    "# Initialize the handler for the selected dataset\n",
    "handler = SpatialDataHandler(selected_path)\n",
    "\n",
    "# Confirm initialization\n",
    "print(f\"Initialized handler for dataset: {selected_dataset}\")\n"
   ],
   "outputs": [
    {
     "name": "stderr",
     "output_type": "stream",
     "text": [
      "INFO:crunch1_project.src.spatialdata_handler:SpatialDataHandler initialized for file: /mnt/d/AutoImmuneML/broad-1-autoimmune-crunch1/data/UC7_I.zarr\n"
     ]
    },
    {
     "name": "stdout",
     "output_type": "stream",
     "text": [
      "Initialized handler for dataset: UC7_I.zarr\n"
     ]
    }
   ],
   "execution_count": 7
  },
  {
   "metadata": {
    "ExecuteTime": {
     "end_time": "2024-12-19T03:21:25.755786Z",
     "start_time": "2024-12-19T03:20:58.857618Z"
    }
   },
   "cell_type": "code",
   "source": [
    "# Load and validate the dataset\n",
    "print(f\"Loading dataset: {selected_dataset}\")\n",
    "handler.load_data()\n",
    "\n",
    "print(f\"Validating dataset: {selected_dataset}\")\n",
    "handler.validate_data()\n"
   ],
   "id": "d49c453b9b6b757a",
   "outputs": [
    {
     "name": "stdout",
     "output_type": "stream",
     "text": [
      "Loading dataset: UC7_I.zarr\n"
     ]
    },
    {
     "name": "stderr",
     "output_type": "stream",
     "text": [
      "INFO:ome_zarr.reader:root_attr: multiscales\n",
      "INFO:ome_zarr.reader:root_attr: omero\n",
      "INFO:ome_zarr.reader:root_attr: spatialdata_attrs\n",
      "INFO:ome_zarr.reader:datasets [{'coordinateTransformations': [{'scale': [1.0, 1.0, 1.0], 'type': 'scale'}], 'path': '0'}]\n",
      "INFO:ome_zarr.reader:resolution: 0\n",
      "INFO:ome_zarr.reader: - shape ('c', 'y', 'x') = (1, 17000, 20992)\n",
      "INFO:ome_zarr.reader: - chunks =  ['1', '5792 (+ 5416)', '5792 (+ 3616)']\n",
      "INFO:ome_zarr.reader: - dtype = uint32\n",
      "INFO:ome_zarr.reader:root_attr: multiscales\n",
      "INFO:ome_zarr.reader:root_attr: omero\n",
      "INFO:ome_zarr.reader:root_attr: spatialdata_attrs\n",
      "INFO:ome_zarr.reader:root_attr: multiscales\n",
      "INFO:ome_zarr.reader:root_attr: omero\n",
      "INFO:ome_zarr.reader:root_attr: spatialdata_attrs\n",
      "INFO:ome_zarr.reader:datasets [{'coordinateTransformations': [{'scale': [1.0, 1.0, 1.0], 'type': 'scale'}], 'path': '0'}]\n",
      "INFO:ome_zarr.reader:resolution: 0\n",
      "INFO:ome_zarr.reader: - shape ('c', 'y', 'x') = (3, 17000, 20992)\n",
      "INFO:ome_zarr.reader: - chunks =  ['3', '6688 (+ 3624)', '6688 (+ 928)']\n",
      "INFO:ome_zarr.reader: - dtype = uint8\n",
      "INFO:ome_zarr.reader:root_attr: multiscales\n",
      "INFO:ome_zarr.reader:root_attr: omero\n",
      "INFO:ome_zarr.reader:root_attr: spatialdata_attrs\n",
      "INFO:crunch1_project.src.spatialdata_handler:SpatialData loaded successfully.\n",
      "INFO:crunch1_project.src.spatialdata_handler:Loaded SpatialData Summary:\n",
      "SpatialData object, with associated Zarr store: /mnt/d/AutoImmuneML/broad-1-autoimmune-crunch1/data/UC7_I.zarr\n",
      "├── Images\n",
      "│     ├── 'HE_nuc_original': DataArray[cyx] (1, 17000, 20992)\n",
      "│     └── 'HE_original': DataArray[cyx] (3, 17000, 20992)\n",
      "└── Tables\n",
      "      ├── 'anucleus': AnnData (144704, 460)\n",
      "      └── 'cell_id-group': AnnData (277046, 0)\n",
      "with coordinate systems:\n",
      "    ▸ 'global', with elements:\n",
      "        HE_nuc_original (Images), HE_original (Images)\n",
      "INFO:crunch1_project.src.spatialdata_handler:SpatialData validation passed.\n"
     ]
    },
    {
     "name": "stdout",
     "output_type": "stream",
     "text": [
      "Validating dataset: UC7_I.zarr\n"
     ]
    }
   ],
   "execution_count": 8
  },
  {
   "metadata": {},
   "cell_type": "markdown",
   "source": "",
   "id": "a5aaae58d1c3c45"
  },
  {
   "metadata": {
    "ExecuteTime": {
     "end_time": "2024-12-19T03:21:25.781034Z",
     "start_time": "2024-12-19T03:21:25.777741Z"
    }
   },
   "cell_type": "code",
   "source": "",
   "id": "bd586572469976e",
   "outputs": [],
   "execution_count": null
  },
  {
   "metadata": {},
   "cell_type": "markdown",
   "source": "",
   "id": "dc8ce41093900d89"
  }
 ],
 "metadata": {
  "kernelspec": {
   "display_name": "Python 3",
   "language": "python",
   "name": "python3"
  },
  "language_info": {
   "codemirror_mode": {
    "name": "ipython",
    "version": 2
   },
   "file_extension": ".py",
   "mimetype": "text/x-python",
   "name": "python",
   "nbconvert_exporter": "python",
   "pygments_lexer": "ipython2",
   "version": "2.7.6"
  }
 },
 "nbformat": 4,
 "nbformat_minor": 5
}
