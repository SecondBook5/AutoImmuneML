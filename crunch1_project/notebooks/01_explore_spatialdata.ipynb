{
 "cells": [
  {
   "metadata": {},
   "cell_type": "markdown",
   "source": [
    "# 01 - SpatialData Exploration\n",
    "\n",
    "## **Objective**\n",
    "This notebook explores and analyzes the structure of the provided SpatialData object for **Crunch 1** of the Autoimmune Disease Machine Learning Challenge. The following tasks are performed to prepare the dataset for downstream modeling:\n",
    "\n",
    "1. Load the `.zarr` dataset into a `SpatialData` object.\n",
    "2. Validate the dataset to ensure it contains required components.\n",
    "3. Visualize key elements, including H&E images and nucleus segmentation masks.\n",
    "4. Preprocess the dataset, optionally subsampling large data for efficiency.\n",
    "5. Extract nuclei coordinates and link them to gene expression profiles.\n",
    "6. Create interactive visualizations to analyze tissue and gene expression.\n",
    "\n",
    "---\n",
    "\n",
    "## **Dataset Overview**\n",
    "The dataset includes:\n",
    "- **H&E Pathology Images**:\n",
    "  - `HE_original`: The original H&E image in its native pixel coordinates.\n",
    "  - `HE_nuc_original`: The nucleus segmentation mask associated with the H&E image.\n",
    "\n",
    "- **Gene Expression Data**:\n",
    "  - `anucleus`: Aggregated gene expression profiles for each nucleus, with log1p-normalized values for 460 genes.\n",
    "\n",
    "---\n",
    "\n",
    "## **Steps in This Notebook**\n",
    "1. **Environment Setup**: Modules are imported, and the `SpatialDataHandler` is initialized.\n",
    "2. **Data Loading and Preprocessing**: The dataset is loaded, validated, and optionally subsampled.\n",
    "3. **Visualization**: Key dataset components are visualized for initial exploration.\n",
    "4. **Data Extraction**: Nuclei coordinates are linked to gene expression profiles.\n",
    "5. **Advanced Visualization**: Interactive visualizations are created to explore tissue and gene expression relationships.\n",
    "\n",
    "---\n",
    "\n",
    "## **Expected Outputs**\n",
    "- A summary of the dataset structure and its components.\n",
    "- Visualizations of H&E images and nucleus segmentation masks.\n",
    "- A DataFrame linking nuclei coordinates to gene expression data.\n",
    "- Interactive visualizations for deeper analysis of tissue structure and gene expression.\n",
    "\n",
    "---\n"
   ],
   "id": "dbb6a9ef8bb74526"
  },
  {
   "metadata": {},
   "cell_type": "markdown",
   "source": [
    "# **Step 1: Environment Setup**\n",
    "\n",
    "This step prepares the environment for data exploration. Tasks include:\n",
    "1. Importing required modules and libraries.\n",
    "2. Parsing the `config.yaml` file to retrieve project paths.\n",
    "3. Identifying `.zarr` files in the dataset directory (`raw_dir`).\n",
    "4. Validating the environment to ensure necessary files and dependencies are present.\n",
    "5. Initializing a `SpatialDataHandler` for a selected `.zarr` dataset.\n"
   ],
   "id": "bf532d239feafee0"
  },
  {
   "metadata": {
    "ExecuteTime": {
     "end_time": "2024-12-19T07:40:34.157740Z",
     "start_time": "2024-12-19T07:40:32.285365Z"
    }
   },
   "cell_type": "code",
   "source": [
    "# Install missing dependencies (if necessary)\n",
    "%pip install spatialdata matplotlib plotly pandas numpy pyyaml tqdm"
   ],
   "id": "28b41401c73713a7",
   "outputs": [
    {
     "name": "stdout",
     "output_type": "stream",
     "text": [
      "/bin/bash: warning: setlocale: LC_ALL: cannot change locale (en_US.UTF-8)\r\n",
      "Requirement already satisfied: spatialdata in /home/secondbook5/micromamba/envs/autoimmune_ml/lib/python3.11/site-packages (0.2.6)\r\n",
      "Requirement already satisfied: matplotlib in /home/secondbook5/micromamba/envs/autoimmune_ml/lib/python3.11/site-packages (3.9.3)\r\n",
      "Requirement already satisfied: plotly in /home/secondbook5/micromamba/envs/autoimmune_ml/lib/python3.11/site-packages (5.24.1)\r\n",
      "Requirement already satisfied: pandas in /home/secondbook5/micromamba/envs/autoimmune_ml/lib/python3.11/site-packages (2.2.3)\r\n",
      "Requirement already satisfied: numpy in /home/secondbook5/micromamba/envs/autoimmune_ml/lib/python3.11/site-packages (1.26.4)\r\n",
      "Requirement already satisfied: pyyaml in /home/secondbook5/micromamba/envs/autoimmune_ml/lib/python3.11/site-packages (6.0.2)\r\n",
      "Requirement already satisfied: tqdm in /home/secondbook5/micromamba/envs/autoimmune_ml/lib/python3.11/site-packages (4.67.1)\r\n",
      "Requirement already satisfied: anndata>=0.9.1 in /home/secondbook5/micromamba/envs/autoimmune_ml/lib/python3.11/site-packages (from spatialdata) (0.11.1)\r\n",
      "Requirement already satisfied: click in /home/secondbook5/micromamba/envs/autoimmune_ml/lib/python3.11/site-packages (from spatialdata) (8.1.7)\r\n",
      "Requirement already satisfied: dask-image in /home/secondbook5/micromamba/envs/autoimmune_ml/lib/python3.11/site-packages (from spatialdata) (2024.5.3)\r\n",
      "Requirement already satisfied: dask>=2024.4.1 in /home/secondbook5/micromamba/envs/autoimmune_ml/lib/python3.11/site-packages (from spatialdata) (2024.12.0)\r\n",
      "Requirement already satisfied: fsspec<=2023.6 in /home/secondbook5/micromamba/envs/autoimmune_ml/lib/python3.11/site-packages (from spatialdata) (2023.6.0)\r\n",
      "Requirement already satisfied: geopandas>=0.14 in /home/secondbook5/micromamba/envs/autoimmune_ml/lib/python3.11/site-packages (from spatialdata) (1.0.1)\r\n",
      "Requirement already satisfied: multiscale-spatial-image>=2.0.2 in /home/secondbook5/micromamba/envs/autoimmune_ml/lib/python3.11/site-packages (from spatialdata) (2.0.2)\r\n",
      "Requirement already satisfied: networkx in /home/secondbook5/micromamba/envs/autoimmune_ml/lib/python3.11/site-packages (from spatialdata) (3.4.2)\r\n",
      "Requirement already satisfied: numba in /home/secondbook5/micromamba/envs/autoimmune_ml/lib/python3.11/site-packages (from spatialdata) (0.60.0)\r\n",
      "Requirement already satisfied: ome-zarr>=0.8.4 in /home/secondbook5/micromamba/envs/autoimmune_ml/lib/python3.11/site-packages (from spatialdata) (0.9.0)\r\n",
      "Requirement already satisfied: pooch in /home/secondbook5/micromamba/envs/autoimmune_ml/lib/python3.11/site-packages (from spatialdata) (1.8.2)\r\n",
      "Requirement already satisfied: pyarrow in /home/secondbook5/micromamba/envs/autoimmune_ml/lib/python3.11/site-packages (from spatialdata) (18.1.0)\r\n",
      "Requirement already satisfied: rich in /home/secondbook5/micromamba/envs/autoimmune_ml/lib/python3.11/site-packages (from spatialdata) (13.9.4)\r\n",
      "Requirement already satisfied: scikit-image in /home/secondbook5/micromamba/envs/autoimmune_ml/lib/python3.11/site-packages (from spatialdata) (0.24.0)\r\n",
      "Requirement already satisfied: scipy in /home/secondbook5/micromamba/envs/autoimmune_ml/lib/python3.11/site-packages (from spatialdata) (1.14.1)\r\n",
      "Requirement already satisfied: setuptools in /home/secondbook5/micromamba/envs/autoimmune_ml/lib/python3.11/site-packages (from spatialdata) (75.6.0)\r\n",
      "Requirement already satisfied: shapely>=2.0.1 in /home/secondbook5/micromamba/envs/autoimmune_ml/lib/python3.11/site-packages (from spatialdata) (2.0.6)\r\n",
      "Requirement already satisfied: spatial-image>=1.1.0 in /home/secondbook5/micromamba/envs/autoimmune_ml/lib/python3.11/site-packages (from spatialdata) (1.1.0)\r\n",
      "Requirement already satisfied: typing-extensions>=4.8.0 in /home/secondbook5/micromamba/envs/autoimmune_ml/lib/python3.11/site-packages (from spatialdata) (4.12.2)\r\n",
      "Requirement already satisfied: xarray-schema in /home/secondbook5/micromamba/envs/autoimmune_ml/lib/python3.11/site-packages (from spatialdata) (0.0.3)\r\n",
      "Requirement already satisfied: xarray-spatial>=0.3.5 in /home/secondbook5/micromamba/envs/autoimmune_ml/lib/python3.11/site-packages (from spatialdata) (0.4.0)\r\n",
      "Requirement already satisfied: xarray>=2024.10.0 in /home/secondbook5/micromamba/envs/autoimmune_ml/lib/python3.11/site-packages (from spatialdata) (2024.11.0)\r\n",
      "Requirement already satisfied: zarr<3 in /home/secondbook5/micromamba/envs/autoimmune_ml/lib/python3.11/site-packages (from spatialdata) (2.18.3)\r\n",
      "Requirement already satisfied: contourpy>=1.0.1 in /home/secondbook5/micromamba/envs/autoimmune_ml/lib/python3.11/site-packages (from matplotlib) (1.3.1)\r\n",
      "Requirement already satisfied: cycler>=0.10 in /home/secondbook5/micromamba/envs/autoimmune_ml/lib/python3.11/site-packages (from matplotlib) (0.12.1)\r\n",
      "Requirement already satisfied: fonttools>=4.22.0 in /home/secondbook5/micromamba/envs/autoimmune_ml/lib/python3.11/site-packages (from matplotlib) (4.55.2)\r\n",
      "Requirement already satisfied: kiwisolver>=1.3.1 in /home/secondbook5/micromamba/envs/autoimmune_ml/lib/python3.11/site-packages (from matplotlib) (1.4.7)\r\n",
      "Requirement already satisfied: packaging>=20.0 in /home/secondbook5/micromamba/envs/autoimmune_ml/lib/python3.11/site-packages (from matplotlib) (24.2)\r\n",
      "Requirement already satisfied: pillow>=8 in /home/secondbook5/micromamba/envs/autoimmune_ml/lib/python3.11/site-packages (from matplotlib) (11.0.0)\r\n",
      "Requirement already satisfied: pyparsing>=2.3.1 in /home/secondbook5/micromamba/envs/autoimmune_ml/lib/python3.11/site-packages (from matplotlib) (3.2.0)\r\n",
      "Requirement already satisfied: python-dateutil>=2.7 in /home/secondbook5/micromamba/envs/autoimmune_ml/lib/python3.11/site-packages (from matplotlib) (2.9.0.post0)\r\n",
      "Requirement already satisfied: tenacity>=6.2.0 in /home/secondbook5/micromamba/envs/autoimmune_ml/lib/python3.11/site-packages (from plotly) (9.0.0)\r\n",
      "Requirement already satisfied: pytz>=2020.1 in /home/secondbook5/micromamba/envs/autoimmune_ml/lib/python3.11/site-packages (from pandas) (2024.1)\r\n",
      "Requirement already satisfied: tzdata>=2022.7 in /home/secondbook5/micromamba/envs/autoimmune_ml/lib/python3.11/site-packages (from pandas) (2024.2)\r\n",
      "Requirement already satisfied: array-api-compat!=1.5,>1.4 in /home/secondbook5/micromamba/envs/autoimmune_ml/lib/python3.11/site-packages (from anndata>=0.9.1->spatialdata) (1.9.1)\r\n",
      "Requirement already satisfied: h5py>=3.6 in /home/secondbook5/micromamba/envs/autoimmune_ml/lib/python3.11/site-packages (from anndata>=0.9.1->spatialdata) (3.12.1)\r\n",
      "Requirement already satisfied: natsort in /home/secondbook5/micromamba/envs/autoimmune_ml/lib/python3.11/site-packages (from anndata>=0.9.1->spatialdata) (8.4.0)\r\n",
      "Requirement already satisfied: cloudpickle>=3.0.0 in /home/secondbook5/micromamba/envs/autoimmune_ml/lib/python3.11/site-packages (from dask>=2024.4.1->spatialdata) (3.1.0)\r\n",
      "Requirement already satisfied: partd>=1.4.0 in /home/secondbook5/micromamba/envs/autoimmune_ml/lib/python3.11/site-packages (from dask>=2024.4.1->spatialdata) (1.4.2)\r\n",
      "Requirement already satisfied: toolz>=0.10.0 in /home/secondbook5/micromamba/envs/autoimmune_ml/lib/python3.11/site-packages (from dask>=2024.4.1->spatialdata) (1.0.0)\r\n",
      "Requirement already satisfied: importlib_metadata>=4.13.0 in /home/secondbook5/micromamba/envs/autoimmune_ml/lib/python3.11/site-packages (from dask>=2024.4.1->spatialdata) (8.5.0)\r\n",
      "Requirement already satisfied: pyogrio>=0.7.2 in /home/secondbook5/micromamba/envs/autoimmune_ml/lib/python3.11/site-packages (from geopandas>=0.14->spatialdata) (0.10.0)\r\n",
      "Requirement already satisfied: pyproj>=3.3.0 in /home/secondbook5/micromamba/envs/autoimmune_ml/lib/python3.11/site-packages (from geopandas>=0.14->spatialdata) (3.7.0)\r\n",
      "Requirement already satisfied: aiohttp<4 in /home/secondbook5/micromamba/envs/autoimmune_ml/lib/python3.11/site-packages (from ome-zarr>=0.8.4->spatialdata) (3.11.10)\r\n",
      "Requirement already satisfied: distributed in /home/secondbook5/micromamba/envs/autoimmune_ml/lib/python3.11/site-packages (from ome-zarr>=0.8.4->spatialdata) (2024.12.0)\r\n",
      "Requirement already satisfied: requests in /home/secondbook5/micromamba/envs/autoimmune_ml/lib/python3.11/site-packages (from ome-zarr>=0.8.4->spatialdata) (2.32.3)\r\n",
      "Requirement already satisfied: six>=1.5 in /home/secondbook5/micromamba/envs/autoimmune_ml/lib/python3.11/site-packages (from python-dateutil>=2.7->matplotlib) (1.17.0)\r\n",
      "Requirement already satisfied: xarray-dataclasses>=1.1.0 in /home/secondbook5/micromamba/envs/autoimmune_ml/lib/python3.11/site-packages (from spatial-image>=1.1.0->spatialdata) (1.9.1)\r\n",
      "Requirement already satisfied: datashader>=0.15.0 in /home/secondbook5/micromamba/envs/autoimmune_ml/lib/python3.11/site-packages (from xarray-spatial>=0.3.5->spatialdata) (0.16.3)\r\n",
      "Requirement already satisfied: asciitree in /home/secondbook5/micromamba/envs/autoimmune_ml/lib/python3.11/site-packages (from zarr<3->spatialdata) (0.3.3)\r\n",
      "Requirement already satisfied: numcodecs>=0.10.0 in /home/secondbook5/micromamba/envs/autoimmune_ml/lib/python3.11/site-packages (from zarr<3->spatialdata) (0.14.1)\r\n",
      "Requirement already satisfied: fasteners in /home/secondbook5/micromamba/envs/autoimmune_ml/lib/python3.11/site-packages (from zarr<3->spatialdata) (0.19)\r\n",
      "Requirement already satisfied: pims>=0.4.1 in /home/secondbook5/micromamba/envs/autoimmune_ml/lib/python3.11/site-packages (from dask-image->spatialdata) (0.7)\r\n",
      "Requirement already satisfied: tifffile>=2018.10.18 in /home/secondbook5/micromamba/envs/autoimmune_ml/lib/python3.11/site-packages (from dask-image->spatialdata) (2024.9.20)\r\n",
      "Requirement already satisfied: llvmlite<0.44,>=0.43.0dev0 in /home/secondbook5/micromamba/envs/autoimmune_ml/lib/python3.11/site-packages (from numba->spatialdata) (0.43.0)\r\n",
      "Requirement already satisfied: platformdirs>=2.5.0 in /home/secondbook5/micromamba/envs/autoimmune_ml/lib/python3.11/site-packages (from pooch->spatialdata) (4.3.6)\r\n",
      "Requirement already satisfied: markdown-it-py>=2.2.0 in /home/secondbook5/micromamba/envs/autoimmune_ml/lib/python3.11/site-packages (from rich->spatialdata) (3.0.0)\r\n",
      "Requirement already satisfied: pygments<3.0.0,>=2.13.0 in /home/secondbook5/micromamba/envs/autoimmune_ml/lib/python3.11/site-packages (from rich->spatialdata) (2.18.0)\r\n",
      "Requirement already satisfied: imageio>=2.33 in /home/secondbook5/micromamba/envs/autoimmune_ml/lib/python3.11/site-packages (from scikit-image->spatialdata) (2.36.1)\r\n",
      "Requirement already satisfied: lazy-loader>=0.4 in /home/secondbook5/micromamba/envs/autoimmune_ml/lib/python3.11/site-packages (from scikit-image->spatialdata) (0.4)\r\n",
      "Requirement already satisfied: aiohappyeyeballs>=2.3.0 in /home/secondbook5/micromamba/envs/autoimmune_ml/lib/python3.11/site-packages (from aiohttp<4->ome-zarr>=0.8.4->spatialdata) (2.4.4)\r\n",
      "Requirement already satisfied: aiosignal>=1.1.2 in /home/secondbook5/micromamba/envs/autoimmune_ml/lib/python3.11/site-packages (from aiohttp<4->ome-zarr>=0.8.4->spatialdata) (1.3.1)\r\n",
      "Requirement already satisfied: attrs>=17.3.0 in /home/secondbook5/micromamba/envs/autoimmune_ml/lib/python3.11/site-packages (from aiohttp<4->ome-zarr>=0.8.4->spatialdata) (24.2.0)\r\n",
      "Requirement already satisfied: frozenlist>=1.1.1 in /home/secondbook5/micromamba/envs/autoimmune_ml/lib/python3.11/site-packages (from aiohttp<4->ome-zarr>=0.8.4->spatialdata) (1.5.0)\r\n",
      "Requirement already satisfied: multidict<7.0,>=4.5 in /home/secondbook5/micromamba/envs/autoimmune_ml/lib/python3.11/site-packages (from aiohttp<4->ome-zarr>=0.8.4->spatialdata) (6.1.0)\r\n",
      "Requirement already satisfied: propcache>=0.2.0 in /home/secondbook5/micromamba/envs/autoimmune_ml/lib/python3.11/site-packages (from aiohttp<4->ome-zarr>=0.8.4->spatialdata) (0.2.1)\r\n",
      "Requirement already satisfied: yarl<2.0,>=1.17.0 in /home/secondbook5/micromamba/envs/autoimmune_ml/lib/python3.11/site-packages (from aiohttp<4->ome-zarr>=0.8.4->spatialdata) (1.18.3)\r\n",
      "Requirement already satisfied: dask-expr<1.2,>=1.1 in /home/secondbook5/micromamba/envs/autoimmune_ml/lib/python3.11/site-packages (from dask[array,dataframe]>=2024.4.1->dask-image->spatialdata) (1.1.20)\r\n",
      "Requirement already satisfied: colorcet in /home/secondbook5/micromamba/envs/autoimmune_ml/lib/python3.11/site-packages (from datashader>=0.15.0->xarray-spatial>=0.3.5->spatialdata) (3.1.0)\r\n",
      "Requirement already satisfied: multipledispatch in /home/secondbook5/micromamba/envs/autoimmune_ml/lib/python3.11/site-packages (from datashader>=0.15.0->xarray-spatial>=0.3.5->spatialdata) (1.0.0)\r\n",
      "Requirement already satisfied: param in /home/secondbook5/micromamba/envs/autoimmune_ml/lib/python3.11/site-packages (from datashader>=0.15.0->xarray-spatial>=0.3.5->spatialdata) (2.1.1)\r\n",
      "Requirement already satisfied: pyct in /home/secondbook5/micromamba/envs/autoimmune_ml/lib/python3.11/site-packages (from datashader>=0.15.0->xarray-spatial>=0.3.5->spatialdata) (0.5.0)\r\n",
      "Requirement already satisfied: s3fs in /home/secondbook5/micromamba/envs/autoimmune_ml/lib/python3.11/site-packages (from fsspec[s3]!=2021.07.0,>=0.8->ome-zarr>=0.8.4->spatialdata) (2023.6.0)\r\n",
      "Requirement already satisfied: zipp>=3.20 in /home/secondbook5/micromamba/envs/autoimmune_ml/lib/python3.11/site-packages (from importlib_metadata>=4.13.0->dask>=2024.4.1->spatialdata) (3.21.0)\r\n",
      "Requirement already satisfied: mdurl~=0.1 in /home/secondbook5/micromamba/envs/autoimmune_ml/lib/python3.11/site-packages (from markdown-it-py>=2.2.0->rich->spatialdata) (0.1.2)\r\n",
      "Requirement already satisfied: locket in /home/secondbook5/micromamba/envs/autoimmune_ml/lib/python3.11/site-packages (from partd>=1.4.0->dask>=2024.4.1->spatialdata) (1.0.0)\r\n",
      "Requirement already satisfied: slicerator>=0.9.8 in /home/secondbook5/micromamba/envs/autoimmune_ml/lib/python3.11/site-packages (from pims>=0.4.1->dask-image->spatialdata) (1.1.0)\r\n",
      "Requirement already satisfied: certifi in /home/secondbook5/micromamba/envs/autoimmune_ml/lib/python3.11/site-packages (from pyogrio>=0.7.2->geopandas>=0.14->spatialdata) (2024.8.30)\r\n",
      "Requirement already satisfied: charset_normalizer<4,>=2 in /home/secondbook5/micromamba/envs/autoimmune_ml/lib/python3.11/site-packages (from requests->ome-zarr>=0.8.4->spatialdata) (3.4.0)\r\n",
      "Requirement already satisfied: idna<4,>=2.5 in /home/secondbook5/micromamba/envs/autoimmune_ml/lib/python3.11/site-packages (from requests->ome-zarr>=0.8.4->spatialdata) (3.10)\r\n",
      "Requirement already satisfied: urllib3<3,>=1.21.1 in /home/secondbook5/micromamba/envs/autoimmune_ml/lib/python3.11/site-packages (from requests->ome-zarr>=0.8.4->spatialdata) (1.26.20)\r\n",
      "Requirement already satisfied: jinja2>=2.10.3 in /home/secondbook5/micromamba/envs/autoimmune_ml/lib/python3.11/site-packages (from distributed->ome-zarr>=0.8.4->spatialdata) (3.1.4)\r\n",
      "Requirement already satisfied: msgpack>=1.0.2 in /home/secondbook5/micromamba/envs/autoimmune_ml/lib/python3.11/site-packages (from distributed->ome-zarr>=0.8.4->spatialdata) (1.1.0)\r\n",
      "Requirement already satisfied: psutil>=5.8.0 in /home/secondbook5/micromamba/envs/autoimmune_ml/lib/python3.11/site-packages (from distributed->ome-zarr>=0.8.4->spatialdata) (6.1.0)\r\n",
      "Requirement already satisfied: sortedcontainers>=2.0.5 in /home/secondbook5/micromamba/envs/autoimmune_ml/lib/python3.11/site-packages (from distributed->ome-zarr>=0.8.4->spatialdata) (2.4.0)\r\n",
      "Requirement already satisfied: tblib>=1.6.0 in /home/secondbook5/micromamba/envs/autoimmune_ml/lib/python3.11/site-packages (from distributed->ome-zarr>=0.8.4->spatialdata) (3.0.0)\r\n",
      "Requirement already satisfied: tornado>=6.2.0 in /home/secondbook5/micromamba/envs/autoimmune_ml/lib/python3.11/site-packages (from distributed->ome-zarr>=0.8.4->spatialdata) (6.4.2)\r\n",
      "Requirement already satisfied: zict>=3.0.0 in /home/secondbook5/micromamba/envs/autoimmune_ml/lib/python3.11/site-packages (from distributed->ome-zarr>=0.8.4->spatialdata) (3.0.0)\r\n",
      "Requirement already satisfied: MarkupSafe>=2.0 in /home/secondbook5/micromamba/envs/autoimmune_ml/lib/python3.11/site-packages (from jinja2>=2.10.3->distributed->ome-zarr>=0.8.4->spatialdata) (3.0.2)\r\n",
      "Requirement already satisfied: aiobotocore~=2.5.0 in /home/secondbook5/micromamba/envs/autoimmune_ml/lib/python3.11/site-packages (from s3fs->fsspec[s3]!=2021.07.0,>=0.8->ome-zarr>=0.8.4->spatialdata) (2.5.4)\r\n",
      "Requirement already satisfied: botocore<1.31.18,>=1.31.17 in /home/secondbook5/micromamba/envs/autoimmune_ml/lib/python3.11/site-packages (from aiobotocore~=2.5.0->s3fs->fsspec[s3]!=2021.07.0,>=0.8->ome-zarr>=0.8.4->spatialdata) (1.31.17)\r\n",
      "Requirement already satisfied: wrapt<2.0.0,>=1.10.10 in /home/secondbook5/micromamba/envs/autoimmune_ml/lib/python3.11/site-packages (from aiobotocore~=2.5.0->s3fs->fsspec[s3]!=2021.07.0,>=0.8->ome-zarr>=0.8.4->spatialdata) (1.17.0)\r\n",
      "Requirement already satisfied: aioitertools<1.0.0,>=0.5.1 in /home/secondbook5/micromamba/envs/autoimmune_ml/lib/python3.11/site-packages (from aiobotocore~=2.5.0->s3fs->fsspec[s3]!=2021.07.0,>=0.8->ome-zarr>=0.8.4->spatialdata) (0.12.0)\r\n",
      "Requirement already satisfied: jmespath<2.0.0,>=0.7.1 in /home/secondbook5/micromamba/envs/autoimmune_ml/lib/python3.11/site-packages (from botocore<1.31.18,>=1.31.17->aiobotocore~=2.5.0->s3fs->fsspec[s3]!=2021.07.0,>=0.8->ome-zarr>=0.8.4->spatialdata) (1.0.1)\r\n",
      "Note: you may need to restart the kernel to use updated packages.\n"
     ]
    }
   ],
   "execution_count": 1
  },
  {
   "metadata": {},
   "cell_type": "markdown",
   "source": [
    "## **Step 1.1: Imports**\n",
    "\n",
    "Import all required libraries for the notebook, ensuring necessary modules for data loading, manipulation, visualization, and validation are available.\n"
   ],
   "id": "98a6ea514a9becad"
  },
  {
   "metadata": {
    "ExecuteTime": {
     "end_time": "2024-12-19T07:40:39.523320Z",
     "start_time": "2024-12-19T07:40:38.274504Z"
    }
   },
   "cell_type": "code",
   "source": [
    "\n",
    "import os\n",
    "import yaml"
   ],
   "id": "2617f42050bb020e",
   "outputs": [],
   "execution_count": 2
  },
  {
   "metadata": {
    "ExecuteTime": {
     "end_time": "2024-12-19T07:40:45.974308Z",
     "start_time": "2024-12-19T07:40:41.708149Z"
    }
   },
   "cell_type": "code",
   "source": "",
   "id": "8bb58efe7dd2d54a",
   "outputs": [
    {
     "name": "stderr",
     "output_type": "stream",
     "text": [
      "/home/secondbook5/micromamba/envs/autoimmune_ml/lib/python3.11/site-packages/dask/dataframe/__init__.py:31: FutureWarning: The legacy Dask DataFrame implementation is deprecated and will be removed in a future version. Set the configuration option `dataframe.query-planning` to `True` or None to enable the new Dask Dataframe implementation and silence this warning.\n",
      "  warnings.warn(\n"
     ]
    }
   ],
   "execution_count": 3
  },
  {
   "metadata": {},
   "cell_type": "markdown",
   "source": [
    "## **Step 1.2: Load `config.yaml` and Set Paths**\n",
    "\n",
    "Parse the `config.yaml` file to retrieve the `raw_dir` path where `.zarr` datasets are stored. The presence of `.zarr` files in the directory is then verified.\n"
   ],
   "id": "b0037e1537fa2d86"
  },
  {
   "metadata": {
    "ExecuteTime": {
     "end_time": "2024-12-19T07:40:50.182258Z",
     "start_time": "2024-12-19T07:40:50.175301Z"
    }
   },
   "cell_type": "code",
   "source": [
    "# Define the relative path to config.yaml\n",
    "config_path = \"../config.yaml\"  # Adjust as needed for your directory structure\n",
    "\n",
    "# Ensure the config.yaml file exists\n",
    "if not os.path.exists(config_path):\n",
    "    raise FileNotFoundError(f\"Configuration file not found at: {config_path}\")\n",
    "\n",
    "# Load the configuration file\n",
    "with open(config_path, \"r\") as file:\n",
    "    config = yaml.safe_load(file)\n",
    "\n",
    "# Extract the raw data directory from the configuration\n",
    "raw_dir = config[\"paths\"][\"raw_dir\"]\n",
    "print(f\"Dataset directory (raw_dir): {raw_dir}\")\n"
   ],
   "id": "4f5cba8474f1a50f",
   "outputs": [
    {
     "name": "stdout",
     "output_type": "stream",
     "text": [
      "Dataset directory (raw_dir): /mnt/d/AutoImmuneML/broad-1-autoimmune-crunch1/data\n"
     ]
    }
   ],
   "execution_count": 4
  },
  {
   "metadata": {
    "ExecuteTime": {
     "end_time": "2024-12-19T07:40:54.536677Z",
     "start_time": "2024-12-19T07:40:54.246372Z"
    }
   },
   "cell_type": "code",
   "source": [
    "# Validate the raw directory and list all `.zarr` files\n",
    "if not os.path.exists(raw_dir):\n",
    "    raise FileNotFoundError(f\"Raw data directory not found: {raw_dir}\")\n",
    "\n",
    "zarr_files = [os.path.join(raw_dir, f) for f in os.listdir(raw_dir) if f.endswith(\".zarr\")]\n",
    "\n",
    "if not zarr_files:\n",
    "    raise FileNotFoundError(f\"No `.zarr` files found in directory: {raw_dir}\")\n",
    "\n",
    "print(f\"Found {len(zarr_files)} `.zarr` files:\")\n",
    "for zarr_file in zarr_files:\n",
    "    print(f\" - {os.path.basename(zarr_file)}\")\n"
   ],
   "id": "f7c325b5f7b586b5",
   "outputs": [
    {
     "name": "stdout",
     "output_type": "stream",
     "text": [
      "Found 8 `.zarr` files:\n",
      " - DC1.zarr\n",
      " - DC5.zarr\n",
      " - UC1_I.zarr\n",
      " - UC1_NI.zarr\n",
      " - UC6_I.zarr\n",
      " - UC6_NI.zarr\n",
      " - UC7_I.zarr\n",
      " - UC9_I.zarr\n"
     ]
    }
   ],
   "execution_count": 5
  },
  {
   "metadata": {},
   "cell_type": "markdown",
   "source": [
    "### **Step 1.3: Initialize `SpatialDataHandler` for Single and All Datasets**\n",
    "\n",
    "This step initializes two `SpatialDataHandler` objects:\n",
    "1. **Single Dataset Handler**: Initializes the handler for a selected dataset. The dataset is chosen interactively or defaults to the first available dataset.\n",
    "2. **All Datasets Handler**: Initializes the handler for all available datasets in the directory. This allows for collective exploration and processing.\n",
    "\n",
    "#### **Key Objectives**\n",
    "- Enable structured exploration and validation of a single dataset interactively.\n",
    "- Prepare for batch processing across all datasets.\n",
    "\n",
    "#### **Expected Outputs**\n",
    "- A `SpatialDataHandler` for the selected dataset.\n",
    "- A `SpatialDataHandler` for all datasets collectively.\n"
   ],
   "id": "d9565eec012a50d0"
  },
  {
   "metadata": {
    "ExecuteTime": {
     "end_time": "2024-12-19T07:41:09.620336Z",
     "start_time": "2024-12-19T07:41:07.085003Z"
    }
   },
   "cell_type": "code",
   "source": [
    "# Display available datasets for selection\n",
    "print(\"Available datasets:\")\n",
    "for i, zarr_file in enumerate(zarr_files):\n",
    "    print(f\"{i + 1}: {os.path.basename(zarr_file)}\")\n",
    "\n",
    "# Select a dataset interactively or default to the first one\n",
    "dataset_index = input(\"Select a dataset by number (default: 1): \")\n",
    "dataset_index = int(dataset_index) - 1 if dataset_index else 0\n",
    "\n",
    "# Validate the selected index\n",
    "if dataset_index < 0 or dataset_index >= len(zarr_files):\n",
    "    raise ValueError(f\"Invalid dataset selection. Please choose a number between 1 and {len(zarr_files)}.\")\n",
    "\n",
    "selected_dataset = os.path.basename(zarr_files[dataset_index])\n",
    "selected_path = zarr_files[dataset_index]\n",
    "print(f\"Selected dataset: {selected_dataset}\")\n",
    "\n",
    "# Import the SpatialDataHandler class\n",
    "from src.spatialdata_handler import SpatialDataHandler\n",
    "\n",
    "# Initialize handler for the selected dataset (single dataset handler)\n",
    "single_handler = SpatialDataHandler(zarr_paths=[selected_path])\n",
    "\n",
    "# Initialize handler for all datasets (all datasets handler)\n",
    "all_handler = SpatialDataHandler(zarr_paths=zarr_files)\n"
   ],
   "id": "7f835c07158dad05",
   "outputs": [
    {
     "name": "stdout",
     "output_type": "stream",
     "text": [
      "Available datasets:\n",
      "1: DC1.zarr\n",
      "2: DC5.zarr\n",
      "3: UC1_I.zarr\n",
      "4: UC1_NI.zarr\n",
      "5: UC6_I.zarr\n",
      "6: UC6_NI.zarr\n",
      "7: UC7_I.zarr\n",
      "8: UC9_I.zarr\n",
      "Selected dataset: UC7_I.zarr\n",
      "Initialized handler for datasets: ['/mnt/d/AutoImmuneML/broad-1-autoimmune-crunch1/data/UC7_I.zarr']\n",
      "Initialized handler for datasets: ['/mnt/d/AutoImmuneML/broad-1-autoimmune-crunch1/data/DC1.zarr', '/mnt/d/AutoImmuneML/broad-1-autoimmune-crunch1/data/DC5.zarr', '/mnt/d/AutoImmuneML/broad-1-autoimmune-crunch1/data/UC1_I.zarr', '/mnt/d/AutoImmuneML/broad-1-autoimmune-crunch1/data/UC1_NI.zarr', '/mnt/d/AutoImmuneML/broad-1-autoimmune-crunch1/data/UC6_I.zarr', '/mnt/d/AutoImmuneML/broad-1-autoimmune-crunch1/data/UC6_NI.zarr', '/mnt/d/AutoImmuneML/broad-1-autoimmune-crunch1/data/UC7_I.zarr', '/mnt/d/AutoImmuneML/broad-1-autoimmune-crunch1/data/UC9_I.zarr']\n"
     ]
    }
   ],
   "execution_count": 6
  },
  {
   "metadata": {
    "ExecuteTime": {
     "end_time": "2024-12-19T07:42:28.352559Z",
     "start_time": "2024-12-19T07:41:36.098637Z"
    }
   },
   "cell_type": "code",
   "source": [
    "# For single dataset\n",
    "print(f\"Loading and validating single dataset: {selected_dataset}\")\n",
    "single_handler.load_data(max_retries=3)\n",
    "try:\n",
    "    single_handler.validate_data(\n",
    "        required_images=[\"HE_original\", \"HE_nuc_original\"],\n",
    "        required_tables=[\"anucleus\"]\n",
    "    )\n",
    "    print(f\"Single dataset '{selected_dataset}' validated successfully.\")\n",
    "except ValueError as e:\n",
    "    print(f\"Validation error in single dataset: {e}\")\n",
    "\n",
    "# For all datasets\n",
    "print(\"Loading and validating all datasets.\")\n",
    "all_handler.load_data(max_retries=3)\n",
    "try:\n",
    "    all_handler.validate_data(\n",
    "        required_images=[\"HE_original\", \"HE_nuc_original\"],\n",
    "        required_tables=[\"anucleus\"]\n",
    "    )\n",
    "    print(\"All datasets validated successfully.\")\n",
    "except ValueError as e:\n",
    "    print(f\"Validation error in all datasets: {e}\")\n"
   ],
   "id": "62fd2d0711ecbb7b",
   "outputs": [
    {
     "name": "stdout",
     "output_type": "stream",
     "text": [
      "Loading and validating single dataset: UC7_I.zarr\n"
     ]
    },
    {
     "name": "stderr",
     "output_type": "stream",
     "text": [
      "Loading Datasets:   0%|          | 0/1 [00:00<?, ?it/s]"
     ]
    },
    {
     "name": "stdout",
     "output_type": "stream",
     "text": [
      "Loading dataset: UC7_I.zarr (Attempt 1/3)...\n"
     ]
    },
    {
     "name": "stderr",
     "output_type": "stream",
     "text": [
      "Loading Datasets: 100%|██████████| 1/1 [00:14<00:00, 14.10s/it]\n"
     ]
    },
    {
     "name": "stdout",
     "output_type": "stream",
     "text": [
      "Dataset 'UC7_I.zarr' loaded successfully.\n"
     ]
    },
    {
     "name": "stderr",
     "output_type": "stream",
     "text": [
      "Validating Datasets: 100%|██████████| 1/1 [00:00<00:00, 4899.89it/s]\n"
     ]
    },
    {
     "name": "stdout",
     "output_type": "stream",
     "text": [
      "Validating dataset: UC7_I.zarr...\n",
      "Dataset 'UC7_I.zarr' is fully validated.\n",
      "Single dataset 'UC7_I.zarr' validated successfully.\n",
      "Loading and validating all datasets.\n"
     ]
    },
    {
     "name": "stderr",
     "output_type": "stream",
     "text": [
      "Loading Datasets:   0%|          | 0/8 [00:00<?, ?it/s]"
     ]
    },
    {
     "name": "stdout",
     "output_type": "stream",
     "text": [
      "Loading dataset: UC6_I.zarr (Attempt 1/3)...\n",
      "Loading dataset: DC5.zarr (Attempt 1/3)...\n",
      "Loading dataset: UC1_NI.zarr (Attempt 1/3)...\n",
      "Loading dataset: DC1.zarr (Attempt 1/3)...\n",
      "Loading dataset: UC1_I.zarr (Attempt 1/3)...\n",
      "Loading dataset: UC9_I.zarr (Attempt 1/3)...\n",
      "Loading dataset: UC6_NI.zarr (Attempt 1/3)...\n",
      "Loading dataset: UC7_I.zarr (Attempt 1/3)...\n"
     ]
    },
    {
     "name": "stderr",
     "output_type": "stream",
     "text": [
      "Loading Datasets:  12%|█▎        | 1/8 [00:05<00:35,  5.11s/it]"
     ]
    },
    {
     "name": "stdout",
     "output_type": "stream",
     "text": [
      "Dataset 'DC1.zarr' loaded successfully.\n"
     ]
    },
    {
     "name": "stderr",
     "output_type": "stream",
     "text": [
      "Loading Datasets:  25%|██▌       | 2/8 [00:24<01:20, 13.39s/it]"
     ]
    },
    {
     "name": "stdout",
     "output_type": "stream",
     "text": [
      "Dataset 'UC1_NI.zarr' loaded successfully.\n"
     ]
    },
    {
     "name": "stderr",
     "output_type": "stream",
     "text": [
      "Loading Datasets:  38%|███▊      | 3/8 [00:24<00:37,  7.50s/it]"
     ]
    },
    {
     "name": "stdout",
     "output_type": "stream",
     "text": [
      "Dataset 'UC6_NI.zarr' loaded successfully.\n"
     ]
    },
    {
     "name": "stderr",
     "output_type": "stream",
     "text": [
      "Loading Datasets:  50%|█████     | 4/8 [00:25<00:19,  4.97s/it]"
     ]
    },
    {
     "name": "stdout",
     "output_type": "stream",
     "text": [
      "Dataset 'DC5.zarr' loaded successfully.\n"
     ]
    },
    {
     "name": "stderr",
     "output_type": "stream",
     "text": [
      "Loading Datasets:  62%|██████▎   | 5/8 [00:28<00:12,  4.24s/it]"
     ]
    },
    {
     "name": "stdout",
     "output_type": "stream",
     "text": [
      "Dataset 'UC7_I.zarr' loaded successfully.\n"
     ]
    },
    {
     "name": "stderr",
     "output_type": "stream",
     "text": [
      "Loading Datasets:  75%|███████▌  | 6/8 [00:37<00:11,  5.75s/it]"
     ]
    },
    {
     "name": "stdout",
     "output_type": "stream",
     "text": [
      "Dataset 'UC9_I.zarr' loaded successfully.\n",
      "Dataset 'UC6_I.zarr' loaded successfully.\n"
     ]
    },
    {
     "name": "stderr",
     "output_type": "stream",
     "text": [
      "Loading Datasets: 100%|██████████| 8/8 [00:38<00:00,  4.77s/it]\n"
     ]
    },
    {
     "name": "stdout",
     "output_type": "stream",
     "text": [
      "Dataset 'UC1_I.zarr' loaded successfully.\n"
     ]
    },
    {
     "name": "stderr",
     "output_type": "stream",
     "text": [
      "Validating Datasets: 100%|██████████| 8/8 [00:00<00:00, 9236.01it/s]"
     ]
    },
    {
     "name": "stdout",
     "output_type": "stream",
     "text": [
      "Validating dataset: DC1.zarr...\n",
      "Dataset 'DC1.zarr' is fully validated.\n",
      "Validating dataset: UC1_NI.zarr...\n",
      "Dataset 'UC1_NI.zarr' is fully validated.\n",
      "Validating dataset: UC6_NI.zarr...\n",
      "Dataset 'UC6_NI.zarr' is fully validated.\n",
      "Validating dataset: DC5.zarr...\n",
      "Dataset 'DC5.zarr' is fully validated.\n",
      "Validating dataset: UC7_I.zarr...\n",
      "Dataset 'UC7_I.zarr' is fully validated.\n",
      "Validating dataset: UC9_I.zarr...\n",
      "Dataset 'UC9_I.zarr' is fully validated.\n",
      "Validating dataset: UC6_I.zarr...\n",
      "Dataset 'UC6_I.zarr' is fully validated.\n",
      "Validating dataset: UC1_I.zarr...\n",
      "Dataset 'UC1_I.zarr' is fully validated.\n",
      "All datasets validated successfully.\n"
     ]
    },
    {
     "name": "stderr",
     "output_type": "stream",
     "text": [
      "\n"
     ]
    }
   ],
   "execution_count": 7
  },
  {
   "metadata": {},
   "cell_type": "markdown",
   "source": [
    "### **Step 2: Data Loading and Preprocessing**\n",
    "\n",
    "This step focuses on loading the datasets and preparing them for further analysis. It is divided into substeps for clarity and modularity:\n",
    "\n",
    "1. **Dataset Loading and Validation**: Load the `.zarr` files into memory and validate them to ensure the presence of required components.\n",
    "2. **Generate Summaries**: Provide a detailed summary of the single selected dataset and an overview of all datasets.\n",
    "3. **Preprocessing**: Extract gene lists, normalize data, select training cells, and crop images to prepare for downstream analysis.\n",
    "\n",
    "The expected outcomes include:\n",
    "- Validated datasets with the required components (`HE_original`, `HE_nuc_original`, and `anucleus`).\n",
    "- Summaries that detail the structure and attributes of the datasets.\n",
    "- Preprocessed data ready for exploration and modeling.\n",
    "\n",
    "---"
   ],
   "id": "32abb82800471d28"
  },
  {
   "metadata": {},
   "cell_type": "markdown",
   "source": [
    "#### **Step 2.1: Dataset Loading and Validation**\n",
    "\n",
    "This substep involves:\n",
    "1. Loading the single selected dataset and all datasets using the `SpatialDataHandler`.\n",
    "2. Validating the datasets to ensure the presence of:\n",
    "   - **Images**: `HE_original`, `HE_nuc_original`\n",
    "   - **Tables**: `anucleus`\n",
    "\n",
    "The validation process confirms that all datasets are complete and ready for further analysis.\n"
   ],
   "id": "ac4da566e8da07ac"
  },
  {
   "metadata": {
    "ExecuteTime": {
     "end_time": "2024-12-19T07:51:47.298734Z",
     "start_time": "2024-12-19T07:51:35.029813Z"
    }
   },
   "cell_type": "code",
   "source": [
    "# Load and validate the selected single dataset\n",
    "print(f\"Loading dataset: {selected_dataset}\")\n",
    "single_handler.load_data(max_retries=3)\n",
    "single_handler.validate_data(\n",
    "    required_images=[\"HE_original\", \"HE_nuc_original\"],\n",
    "    required_tables=[\"anucleus\"]\n",
    ")\n",
    "print(f\"Single dataset '{selected_dataset}' validated successfully.\")\n"
   ],
   "id": "d49c453b9b6b757a",
   "outputs": [
    {
     "name": "stdout",
     "output_type": "stream",
     "text": [
      "Loading dataset: UC7_I.zarr\n"
     ]
    },
    {
     "name": "stderr",
     "output_type": "stream",
     "text": [
      "Loading Datasets:   0%|          | 0/1 [00:00<?, ?it/s]"
     ]
    },
    {
     "name": "stdout",
     "output_type": "stream",
     "text": [
      "Loading dataset: UC7_I.zarr (Attempt 1/3)...\n"
     ]
    },
    {
     "name": "stderr",
     "output_type": "stream",
     "text": [
      "Loading Datasets: 100%|██████████| 1/1 [00:12<00:00, 12.26s/it]\n"
     ]
    },
    {
     "name": "stdout",
     "output_type": "stream",
     "text": [
      "Dataset 'UC7_I.zarr' loaded successfully.\n"
     ]
    },
    {
     "name": "stderr",
     "output_type": "stream",
     "text": [
      "Validating Datasets: 100%|██████████| 1/1 [00:00<00:00, 10082.46it/s]"
     ]
    },
    {
     "name": "stdout",
     "output_type": "stream",
     "text": [
      "Validating dataset: UC7_I.zarr...\n",
      "Dataset 'UC7_I.zarr' is fully validated.\n",
      "Single dataset 'UC7_I.zarr' validated successfully.\n"
     ]
    },
    {
     "name": "stderr",
     "output_type": "stream",
     "text": [
      "\n"
     ]
    }
   ],
   "execution_count": 8
  },
  {
   "metadata": {
    "ExecuteTime": {
     "end_time": "2024-12-19T07:52:57.487791Z",
     "start_time": "2024-12-19T07:52:19.163147Z"
    }
   },
   "cell_type": "code",
   "source": [
    "# Load and validate all datasets\n",
    "print(\"Loading and validating all datasets...\")\n",
    "all_handler.load_data(max_retries=3)\n",
    "all_handler.validate_data(\n",
    "    required_images=[\"HE_original\", \"HE_nuc_original\"],\n",
    "    required_tables=[\"anucleus\"]\n",
    ")\n",
    "print(\"All datasets validated successfully.\")\n"
   ],
   "id": "bd586572469976e",
   "outputs": [
    {
     "name": "stdout",
     "output_type": "stream",
     "text": [
      "Loading and validating all datasets...\n",
      "Loading dataset: DC1.zarr (Attempt 1/3)...\n",
      "Loading dataset: DC5.zarr (Attempt 1/3)...\n",
      "Loading dataset: UC1_I.zarr (Attempt 1/3)...\n",
      "Loading dataset: UC1_NI.zarr (Attempt 1/3)...\n",
      "Loading dataset: UC6_I.zarr (Attempt 1/3)...\n",
      "Loading dataset: UC6_NI.zarr (Attempt 1/3)...\n"
     ]
    },
    {
     "name": "stderr",
     "output_type": "stream",
     "text": [
      "Loading Datasets:   0%|          | 0/8 [00:00<?, ?it/s]"
     ]
    },
    {
     "name": "stdout",
     "output_type": "stream",
     "text": [
      "Loading dataset: UC7_I.zarr (Attempt 1/3)...\n",
      "Loading dataset: UC9_I.zarr (Attempt 1/3)...\n"
     ]
    },
    {
     "name": "stderr",
     "output_type": "stream",
     "text": [
      "Loading Datasets:  12%|█▎        | 1/8 [00:07<00:49,  7.10s/it]"
     ]
    },
    {
     "name": "stdout",
     "output_type": "stream",
     "text": [
      "Dataset 'DC1.zarr' loaded successfully.\n"
     ]
    },
    {
     "name": "stderr",
     "output_type": "stream",
     "text": [
      "Loading Datasets:  38%|███▊      | 3/8 [00:27<00:40,  8.04s/it]"
     ]
    },
    {
     "name": "stdout",
     "output_type": "stream",
     "text": [
      "Dataset 'UC1_NI.zarr' loaded successfully.\n",
      "Dataset 'UC6_NI.zarr' loaded successfully.\n"
     ]
    },
    {
     "name": "stderr",
     "output_type": "stream",
     "text": [
      "Loading Datasets:  50%|█████     | 4/8 [00:27<00:20,  5.10s/it]"
     ]
    },
    {
     "name": "stdout",
     "output_type": "stream",
     "text": [
      "Dataset 'DC5.zarr' loaded successfully.\n"
     ]
    },
    {
     "name": "stderr",
     "output_type": "stream",
     "text": [
      "Loading Datasets:  62%|██████▎   | 5/8 [00:31<00:13,  4.56s/it]"
     ]
    },
    {
     "name": "stdout",
     "output_type": "stream",
     "text": [
      "Dataset 'UC7_I.zarr' loaded successfully.\n"
     ]
    },
    {
     "name": "stderr",
     "output_type": "stream",
     "text": [
      "Loading Datasets: 100%|██████████| 8/8 [00:38<00:00,  4.79s/it]\n"
     ]
    },
    {
     "name": "stdout",
     "output_type": "stream",
     "text": [
      "Dataset 'UC9_I.zarr' loaded successfully.\n",
      "Dataset 'UC1_I.zarr' loaded successfully.\n",
      "Dataset 'UC6_I.zarr' loaded successfully.\n"
     ]
    },
    {
     "name": "stderr",
     "output_type": "stream",
     "text": [
      "Validating Datasets: 100%|██████████| 8/8 [00:00<00:00, 39568.91it/s]"
     ]
    },
    {
     "name": "stdout",
     "output_type": "stream",
     "text": [
      "Validating dataset: DC1.zarr...\n",
      "Dataset 'DC1.zarr' is fully validated.\n",
      "Validating dataset: UC1_NI.zarr...\n",
      "Dataset 'UC1_NI.zarr' is fully validated.\n",
      "Validating dataset: UC6_NI.zarr...\n",
      "Dataset 'UC6_NI.zarr' is fully validated.\n",
      "Validating dataset: DC5.zarr...\n",
      "Dataset 'DC5.zarr' is fully validated.\n",
      "Validating dataset: UC7_I.zarr...\n",
      "Dataset 'UC7_I.zarr' is fully validated.\n",
      "Validating dataset: UC9_I.zarr...\n",
      "Dataset 'UC9_I.zarr' is fully validated.\n",
      "Validating dataset: UC6_I.zarr...\n",
      "Dataset 'UC6_I.zarr' is fully validated.\n",
      "Validating dataset: UC1_I.zarr...\n",
      "Dataset 'UC1_I.zarr' is fully validated.\n",
      "All datasets validated successfully.\n"
     ]
    },
    {
     "name": "stderr",
     "output_type": "stream",
     "text": [
      "\n"
     ]
    }
   ],
   "execution_count": 9
  },
  {
   "metadata": {},
   "cell_type": "markdown",
   "source": [
    "### **Step 2.2: Generate Dataset Summaries**\n",
    "\n",
    "Generate detailed summaries of the datasets to provide insights into their structure and components. The summaries are organized as follows:\n",
    "\n",
    "1. **Single Dataset Summary**:\n",
    "   - Displays the structure of the selected dataset, including the available images, tables, and their attributes.\n",
    "   - Key details include image shapes and data types, as well as table dimensions (rows and columns).\n",
    "\n",
    "2. **All Datasets Summary**:\n",
    "   - Provides an overview of all available datasets in the directory.\n",
    "   - Highlights the structure of each dataset, with details about images, tables, and their attributes."
   ],
   "id": "dc8ce41093900d89"
  },
  {
   "metadata": {
    "ExecuteTime": {
     "end_time": "2024-12-19T07:53:36.627413Z",
     "start_time": "2024-12-19T07:53:36.622939Z"
    }
   },
   "cell_type": "code",
   "source": [
    "# Print summary of the single dataset\n",
    "print(\"\\nSummary of the single dataset:\")\n",
    "single_handler.print_summary()\n"
   ],
   "id": "a29e0c357e590ef7",
   "outputs": [
    {
     "name": "stdout",
     "output_type": "stream",
     "text": [
      "\n",
      "Summary of the single dataset:\n",
      "Dataset: UC7_I.zarr\n",
      "- Images:\n",
      "  HE_nuc_original: shape (1, 17000, 20992), dtype uint32\n",
      "  HE_original: shape (3, 17000, 20992), dtype uint8\n",
      "- Tables:\n",
      "  anucleus: 144704 rows, 460 columns\n",
      "  cell_id-group: 277046 rows, 0 columns\n"
     ]
    }
   ],
   "execution_count": 10
  },
  {
   "metadata": {
    "ExecuteTime": {
     "end_time": "2024-12-19T07:53:49.759370Z",
     "start_time": "2024-12-19T07:53:49.753787Z"
    }
   },
   "cell_type": "code",
   "source": [
    "# Print summary of all datasets\n",
    "print(\"\\nSummary of all datasets:\")\n",
    "all_handler.print_summary()\n"
   ],
   "id": "df5c28a0098ff292",
   "outputs": [
    {
     "name": "stdout",
     "output_type": "stream",
     "text": [
      "\n",
      "Summary of all datasets:\n",
      "Dataset: DC1.zarr\n",
      "- Images:\n",
      "  HE_nuc_original: shape (1, 17000, 22000), dtype uint32\n",
      "  HE_original: shape (3, 17000, 22000), dtype uint8\n",
      "- Tables:\n",
      "  anucleus: 0 rows, 460 columns\n",
      "  cell_id-group: 215465 rows, 0 columns\n",
      "Dataset: UC1_NI.zarr\n",
      "- Images:\n",
      "  HE_nuc_original: shape (1, 21000, 22000), dtype uint32\n",
      "  HE_original: shape (3, 21000, 22000), dtype uint8\n",
      "- Tables:\n",
      "  anucleus: 80037 rows, 460 columns\n",
      "  cell_id-group: 93686 rows, 0 columns\n",
      "Dataset: UC6_NI.zarr\n",
      "- Images:\n",
      "  HE_nuc_original: shape (1, 17000, 21000), dtype uint32\n",
      "  HE_original: shape (3, 17000, 21000), dtype uint8\n",
      "- Tables:\n",
      "  anucleus: 101485 rows, 460 columns\n",
      "  cell_id-group: 123517 rows, 0 columns\n",
      "Dataset: DC5.zarr\n",
      "- Images:\n",
      "  HE_nuc_original: shape (1, 18000, 22000), dtype uint32\n",
      "  HE_original: shape (3, 18000, 22000), dtype uint8\n",
      "- Tables:\n",
      "  anucleus: 140368 rows, 460 columns\n",
      "  cell_id-group: 171019 rows, 0 columns\n",
      "Dataset: UC7_I.zarr\n",
      "- Images:\n",
      "  HE_nuc_original: shape (1, 17000, 20992), dtype uint32\n",
      "  HE_original: shape (3, 17000, 20992), dtype uint8\n",
      "- Tables:\n",
      "  anucleus: 144704 rows, 460 columns\n",
      "  cell_id-group: 277046 rows, 0 columns\n",
      "Dataset: UC9_I.zarr\n",
      "- Images:\n",
      "  HE_nuc_original: shape (1, 20000, 21000), dtype uint32\n",
      "  HE_original: shape (3, 20000, 21000), dtype uint8\n",
      "- Tables:\n",
      "  anucleus: 196937 rows, 460 columns\n",
      "  cell_id-group: 244527 rows, 0 columns\n",
      "Dataset: UC6_I.zarr\n",
      "- Images:\n",
      "  HE_nuc_original: shape (1, 20000, 20992), dtype uint32\n",
      "  HE_original: shape (3, 20000, 20992), dtype uint8\n",
      "- Tables:\n",
      "  anucleus: 223790 rows, 460 columns\n",
      "  cell_id-group: 308924 rows, 0 columns\n",
      "Dataset: UC1_I.zarr\n",
      "- Images:\n",
      "  HE_nuc_original: shape (1, 20000, 22000), dtype uint32\n",
      "  HE_original: shape (3, 20000, 22000), dtype uint8\n",
      "- Tables:\n",
      "  anucleus: 202534 rows, 460 columns\n",
      "  cell_id-group: 234356 rows, 0 columns\n"
     ]
    }
   ],
   "execution_count": 11
  },
  {
   "metadata": {},
   "cell_type": "markdown",
   "source": [
    "### **Step 2.3: Preprocess Dataset(s)**\n",
    "\n",
    "This substep involves preprocessing the dataset(s) to ensure they are in a suitable format for downstream analysis and machine learning tasks. The key preprocessing steps include:\n",
    "\n",
    "1. **Extracting Gene Expression Profiles**:\n",
    "   - Links nuclei coordinates to their respective gene expression data from the `anucleus` table.\n",
    "   - Optionally applies filters for subsets of genes or nuclei.\n",
    "\n",
    "2. **Log1p Normalization**:\n",
    "   - Normalizes the extracted gene expression data using the log1p transformation to stabilize variance and improve downstream modeling performance.\n",
    "\n",
    "3. **Visualization Setup**:\n",
    "   - Prepares the processed data for visualization, including cropping of H&E images or nucleus segmentation masks around each nucleus.\n"
   ],
   "id": "5139cdd3ac7105b7"
  },
  {
   "metadata": {},
   "cell_type": "markdown",
   "source": "#### **Step 2.3.1: Extract Gene Expression Profiles**",
   "id": "5315db731597de03"
  },
  {
   "metadata": {
    "ExecuteTime": {
     "end_time": "2024-12-19T08:10:23.155023Z",
     "start_time": "2024-12-19T08:10:22.131223Z"
    }
   },
   "cell_type": "code",
   "source": [
    "# Substep 2.3.1: Extract Gene Expression\n",
    "\n",
    "# Define the genes and nuclei subsets (if applicable)\n",
    "gene_subset = None  # Replace with specific genes if filtering is required\n",
    "nuclei_subset = None  # Replace with specific nuclei if filtering is required\n",
    "\n",
    "# Extract data for the single dataset\n",
    "print(\"\\nExtracting nuclei and gene expression for the single dataset...\")\n",
    "single_dataset_results = single_handler.extract_nuclei_and_gene_expression(\n",
    "    gene_subset=gene_subset,\n",
    "    nuclei_subset=nuclei_subset,\n",
    "    batch_size=1000\n",
    ")\n",
    "print(f\"Extraction completed for single dataset '{selected_dataset}'.\")\n",
    "\n",
    "# Extract data for all datasets\n",
    "print(\"\\nExtracting nuclei and gene expression for all datasets...\")\n",
    "all_datasets_results = all_handler.extract_nuclei_and_gene_expression(\n",
    "    gene_subset=gene_subset,\n",
    "    nuclei_subset=nuclei_subset,\n",
    "    batch_size=1000\n",
    ")\n",
    "print(\"Extraction completed for all datasets.\")\n"
   ],
   "id": "64f1922e3162d0ea",
   "outputs": [
    {
     "name": "stdout",
     "output_type": "stream",
     "text": [
      "\n",
      "Extracting nuclei and gene expression for the single dataset...\n"
     ]
    },
    {
     "name": "stderr",
     "output_type": "stream",
     "text": [
      "Extracting Data:   0%|          | 0/1 [00:00<?, ?it/s]\n",
      "Processing Batch 1/1 in UC7_I.zarr: 100%|██████████| 460/460 [00:00<00:00, 493952.85it/s]\n",
      "Extracting Data: 100%|██████████| 1/1 [00:00<00:00,  1.35it/s]\n"
     ]
    },
    {
     "name": "stdout",
     "output_type": "stream",
     "text": [
      "Extraction complete for dataset 'UC7_I.zarr'.\n",
      "Extraction completed for single dataset 'UC7_I.zarr'.\n",
      "\n",
      "Extracting nuclei and gene expression for all datasets...\n"
     ]
    },
    {
     "name": "stderr",
     "output_type": "stream",
     "text": [
      "Extracting Data:   0%|          | 0/8 [00:00<?, ?it/s]\n"
     ]
    },
    {
     "ename": "ValueError",
     "evalue": "Dataset 'DC1.zarr' is missing required spatial or expression data.",
     "output_type": "error",
     "traceback": [
      "\u001B[0;31m---------------------------------------------------------------------------\u001B[0m",
      "\u001B[0;31mValueError\u001B[0m                                Traceback (most recent call last)",
      "Cell \u001B[0;32mIn[12], line 18\u001B[0m\n\u001B[1;32m     16\u001B[0m \u001B[38;5;66;03m# Extract data for all datasets\u001B[39;00m\n\u001B[1;32m     17\u001B[0m \u001B[38;5;28mprint\u001B[39m(\u001B[38;5;124m\"\u001B[39m\u001B[38;5;130;01m\\n\u001B[39;00m\u001B[38;5;124mExtracting nuclei and gene expression for all datasets...\u001B[39m\u001B[38;5;124m\"\u001B[39m)\n\u001B[0;32m---> 18\u001B[0m all_datasets_results \u001B[38;5;241m=\u001B[39m \u001B[43mall_handler\u001B[49m\u001B[38;5;241;43m.\u001B[39;49m\u001B[43mextract_nuclei_and_gene_expression\u001B[49m\u001B[43m(\u001B[49m\n\u001B[1;32m     19\u001B[0m \u001B[43m    \u001B[49m\u001B[43mgene_subset\u001B[49m\u001B[38;5;241;43m=\u001B[39;49m\u001B[43mgene_subset\u001B[49m\u001B[43m,\u001B[49m\n\u001B[1;32m     20\u001B[0m \u001B[43m    \u001B[49m\u001B[43mnuclei_subset\u001B[49m\u001B[38;5;241;43m=\u001B[39;49m\u001B[43mnuclei_subset\u001B[49m\u001B[43m,\u001B[49m\n\u001B[1;32m     21\u001B[0m \u001B[43m    \u001B[49m\u001B[43mbatch_size\u001B[49m\u001B[38;5;241;43m=\u001B[39;49m\u001B[38;5;241;43m1000\u001B[39;49m\n\u001B[1;32m     22\u001B[0m \u001B[43m)\u001B[49m\n\u001B[1;32m     23\u001B[0m \u001B[38;5;28mprint\u001B[39m(\u001B[38;5;124m\"\u001B[39m\u001B[38;5;124mExtraction completed for all datasets.\u001B[39m\u001B[38;5;124m\"\u001B[39m)\n",
      "File \u001B[0;32m~/projects/AutoImmuneML/crunch1_project/src/spatialdata_handler.py:234\u001B[0m, in \u001B[0;36mSpatialDataHandler.extract_nuclei_and_gene_expression\u001B[0;34m(self, gene_subset, nuclei_subset, batch_size)\u001B[0m\n\u001B[1;32m    232\u001B[0m \u001B[38;5;66;03m# Perform integrity checks to ensure data alignment and presence\u001B[39;00m\n\u001B[1;32m    233\u001B[0m \u001B[38;5;28;01mif\u001B[39;00m nuclei_coords \u001B[38;5;129;01mis\u001B[39;00m \u001B[38;5;28;01mNone\u001B[39;00m \u001B[38;5;129;01mor\u001B[39;00m gene_expression \u001B[38;5;129;01mis\u001B[39;00m \u001B[38;5;28;01mNone\u001B[39;00m:\n\u001B[0;32m--> 234\u001B[0m     \u001B[38;5;28;01mraise\u001B[39;00m \u001B[38;5;167;01mValueError\u001B[39;00m(\u001B[38;5;124mf\u001B[39m\u001B[38;5;124m\"\u001B[39m\u001B[38;5;124mDataset \u001B[39m\u001B[38;5;124m'\u001B[39m\u001B[38;5;132;01m{\u001B[39;00mdataset_name\u001B[38;5;132;01m}\u001B[39;00m\u001B[38;5;124m'\u001B[39m\u001B[38;5;124m is missing required spatial or expression data.\u001B[39m\u001B[38;5;124m\"\u001B[39m)\n\u001B[1;32m    235\u001B[0m \u001B[38;5;28;01mif\u001B[39;00m \u001B[38;5;28mlen\u001B[39m(nuclei_ids) \u001B[38;5;241m!=\u001B[39m gene_expression\u001B[38;5;241m.\u001B[39mshape[\u001B[38;5;241m0\u001B[39m]:\n\u001B[1;32m    236\u001B[0m     \u001B[38;5;28;01mraise\u001B[39;00m \u001B[38;5;167;01mValueError\u001B[39;00m(\u001B[38;5;124mf\u001B[39m\u001B[38;5;124m\"\u001B[39m\u001B[38;5;124mDataset \u001B[39m\u001B[38;5;124m'\u001B[39m\u001B[38;5;132;01m{\u001B[39;00mdataset_name\u001B[38;5;132;01m}\u001B[39;00m\u001B[38;5;124m'\u001B[39m\u001B[38;5;124m has mismatched nuclei IDs and gene expression rows.\u001B[39m\u001B[38;5;124m\"\u001B[39m)\n",
      "\u001B[0;31mValueError\u001B[0m: Dataset 'DC1.zarr' is missing required spatial or expression data."
     ]
    }
   ],
   "execution_count": 12
  },
  {
   "metadata": {},
   "cell_type": "code",
   "outputs": [],
   "execution_count": null,
   "source": "",
   "id": "905a3039316a7660"
  }
 ],
 "metadata": {
  "kernelspec": {
   "display_name": "Python 3",
   "language": "python",
   "name": "python3"
  },
  "language_info": {
   "codemirror_mode": {
    "name": "ipython",
    "version": 2
   },
   "file_extension": ".py",
   "mimetype": "text/x-python",
   "name": "python",
   "nbconvert_exporter": "python",
   "pygments_lexer": "ipython2",
   "version": "2.7.6"
  }
 },
 "nbformat": 4,
 "nbformat_minor": 5
}
