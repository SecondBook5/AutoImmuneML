{
 "cells": [
  {
   "metadata": {},
   "cell_type": "markdown",
   "source": [
    "# 01_Preprocessing\n",
    "\n",
    "### Notebook Overview\n",
    "This notebook handles data preprocessing for Crunch 1. It focuses on:\n",
    "1. Preprocessing H&E images (e.g., stain normalization, patch extraction).\n",
    "2. Normalizing and filtering gene expression data.\n",
    "3. Engineering spatial features (e.g., distances between nuclei).\n",
    "4. Saving preprocessed data to appropriate directories for modeling.\n",
    "\n",
    "---\n",
    "\n",
    "## 1. Imports and Configuration\n"
   ],
   "id": "22460c92f6888e32"
  },
  {
   "cell_type": "code",
   "execution_count": null,
   "id": "initial_id",
   "metadata": {
    "collapsed": true
   },
   "outputs": [],
   "source": [
    "# Core Libraries\n",
    "import os\n",
    "import numpy as np\n",
    "import pandas as pd\n",
    "from matplotlib import pyplot as plt\n",
    "\n",
    "# Data Libraries\n",
    "from skimage import io, color, exposure\n",
    "from tqdm import tqdm"
   ]
  },
  {
   "metadata": {},
   "cell_type": "code",
   "outputs": [],
   "execution_count": null,
   "source": [
    "import squidpy as sq\n",
    "import scanpy as sc\n",
    "import spatialdata as sd"
   ],
   "id": "39bc801dd414ea8b"
  },
  {
   "metadata": {},
   "cell_type": "code",
   "outputs": [],
   "execution_count": null,
   "source": [
    "# Project-Specific Modules\n",
    "from src.config.config_loader import ConfigLoader\n",
    "from src.loaders.data_loader import DataLoader\n",
    "from src.preprocessors.image_preprocessor import ImagePreprocessor\n",
    "from src.preprocessors.gene_preprocessor import GenePreprocessor\n",
    "from src.preprocessors.spatial_preprocessor import SpatialPreprocessor\n"
   ],
   "id": "607554abd728c76a"
  },
  {
   "metadata": {},
   "cell_type": "code",
   "outputs": [],
   "execution_count": null,
   "source": [
    "# Load Config\n",
    "config = ConfigLoader(\"config.yaml\")\n",
    "crunch_name = \"crunch1\"\n",
    "data_loader = DataLoader(config=config, crunch_name=crunch_name)\n",
    "\n",
    "# Set Paths\n",
    "raw_dir = config.get_crunch_path(crunch_name, \"raw_dir\")\n",
    "interim_dir = config.get_crunch_path(crunch_name, \"interim_dir\")"
   ],
   "id": "493edc15b26f445f"
  },
  {
   "metadata": {},
   "cell_type": "markdown",
   "source": "## 2. Data Loading",
   "id": "19376347e0c9f758"
  },
  {
   "metadata": {},
   "cell_type": "code",
   "outputs": [],
   "execution_count": null,
   "source": [
    "# Load Zarr Data\n",
    "zarr_data = data_loader.load_zarr([\"UC1_NI.zarr\", \"UC1_I.zarr\"])\n",
    "print(f\"Loaded datasets: {zarr_data.keys()}\")\n",
    "\n",
    "# Display Sample Image and Metadata\n",
    "sample_image = zarr_data[\"UC1_NI\"][\"images\"][\"HE_registered\"]\n",
    "plt.imshow(sample_image)\n",
    "plt.title(\"Sample H&E Registered Image\")\n",
    "plt.show()\n",
    "\n",
    "# Display Sample Gene Expression Data\n",
    "gene_expression = pd.DataFrame(zarr_data[\"UC1_NI\"][\"tables\"][\"anucleus\"].to_numpy())\n",
    "print(gene_expression.head())"
   ],
   "id": "9c053e76c0277715"
  },
  {
   "metadata": {},
   "cell_type": "markdown",
   "source": [
    "## 3. Preprocessing Tasks\n",
    "\n",
    "### 3.1 H&E Image Preprocessing\n",
    "- Normalize stains using Reinhard normalization.\n",
    "- Extract nucleus-centered patches.\n",
    "- Apply augmentations.\n"
   ],
   "id": "4563d13932537af7"
  },
  {
   "metadata": {},
   "cell_type": "code",
   "outputs": [],
   "execution_count": null,
   "source": [
    "# Initialize Image Preprocessor\n",
    "image_preprocessor = ImagePreprocessor()\n",
    "\n",
    "# Normalize and Extract Patches\n",
    "for zarr_key, dataset in zarr_data.items():\n",
    "    he_images = dataset[\"images\"][\"HE_registered\"]\n",
    "    he_nuc_masks = dataset[\"images\"][\"HE_nuc_registered\"]\n",
    "\n",
    "    # Example: Normalize\n",
    "    normalized_images = image_preprocessor.normalize_stains(he_images)\n",
    "\n",
    "    # Example: Patch Extraction\n",
    "    patches = image_preprocessor.extract_patches(he_images, he_nuc_masks, patch_size=32)\n",
    "\n",
    "    # Save to Interim Directory\n",
    "    save_path = os.path.join(interim_dir, f\"{zarr_key}_processed_images.npy\")\n",
    "    np.save(save_path, patches)\n"
   ],
   "id": "8d0d0ab88f6cc821"
  },
  {
   "metadata": {},
   "cell_type": "markdown",
   "source": [
    "### 3.2 Gene Expression Preprocessing\n",
    "- Normalize and filter gene expression data.\n",
    "- Log-transform if needed.\n"
   ],
   "id": "b4fe16d24dd3791e"
  },
  {
   "metadata": {},
   "cell_type": "code",
   "outputs": [],
   "execution_count": null,
   "source": [
    "# Initialize Gene Preprocessor\n",
    "gene_preprocessor = GenePreprocessor()\n",
    "\n",
    "# Normalize Gene Expression\n",
    "for zarr_key, dataset in zarr_data.items():\n",
    "    anucleus_table = dataset[\"tables\"][\"anucleus\"]\n",
    "    normalized_genes = gene_preprocessor.normalize(anucleus_table)\n",
    "\n",
    "    # Save to Interim Directory\n",
    "    save_path = os.path.join(interim_dir, f\"{zarr_key}_processed_genes.npy\")\n",
    "    np.save(save_path, normalized_genes)\n"
   ],
   "id": "8d939bec198abb1e"
  },
  {
   "metadata": {},
   "cell_type": "markdown",
   "source": [
    "### 3.3 Spatial Feature Engineering\n",
    "- Compute distances between nuclei.\n",
    "- Create adjacency matrices for spatial modeling.\n"
   ],
   "id": "daea59d2369d82b0"
  },
  {
   "metadata": {},
   "cell_type": "code",
   "outputs": [],
   "execution_count": null,
   "source": [
    "# Initialize Spatial Preprocessor\n",
    "spatial_preprocessor = SpatialPreprocessor()\n",
    "\n",
    "# Compute Features\n",
    "for zarr_key, dataset in zarr_data.items():\n",
    "    spatial_features = spatial_preprocessor.generate_features(dataset)\n",
    "\n",
    "    # Save to Interim Directory\n",
    "    save_path = os.path.join(interim_dir, f\"{zarr_key}_spatial_features.npy\")\n",
    "    np.save(save_path, spatial_features)\n"
   ],
   "id": "25967d8d944598db"
  },
  {
   "metadata": {},
   "cell_type": "markdown",
   "source": [
    "## 4. Intermediate Validation\n",
    "- Visualize preprocessed images, gene distributions, and spatial features.\n"
   ],
   "id": "c266b49ca4c4eb86"
  },
  {
   "metadata": {},
   "cell_type": "code",
   "outputs": [],
   "execution_count": null,
   "source": [
    "# Visualize Preprocessed Images\n",
    "plt.imshow(patches[0])\n",
    "plt.title(\"Example Preprocessed Patch\")\n",
    "plt.show()\n",
    "\n",
    "# Plot Gene Expression Distribution\n",
    "plt.hist(normalized_genes.flatten(), bins=50)\n",
    "plt.title(\"Normalized Gene Expression Distribution\")\n",
    "plt.show()\n"
   ],
   "id": "386f79c84b27bd32"
  },
  {
   "metadata": {},
   "cell_type": "markdown",
   "source": [
    "## 5. Save Preprocessed Data\n",
    "- Save all outputs to the `interim` directory."
   ],
   "id": "7875dd2ad288e2ba"
  },
  {
   "metadata": {},
   "cell_type": "code",
   "outputs": [],
   "execution_count": null,
   "source": [
    "# Ensure Preprocessed Data is Stored Correctly\n",
    "assert os.path.exists(interim_dir), \"Interim directory does not exist!\""
   ],
   "id": "3af2efee4404875a"
  },
  {
   "metadata": {},
   "cell_type": "markdown",
   "source": [
    "## 6. Notes and Next Steps\n",
    "- Preprocessing is complete. The next step is Enhanced EDA.\n",
    "- Key Observations:\n",
    "  - ...\n",
    "  - ...\n"
   ],
   "id": "e7e8fdf358d59604"
  }
 ],
 "metadata": {
  "kernelspec": {
   "display_name": "Python 3",
   "language": "python",
   "name": "python3"
  },
  "language_info": {
   "codemirror_mode": {
    "name": "ipython",
    "version": 2
   },
   "file_extension": ".py",
   "mimetype": "text/x-python",
   "name": "python",
   "nbconvert_exporter": "python",
   "pygments_lexer": "ipython2",
   "version": "2.7.6"
  }
 },
 "nbformat": 4,
 "nbformat_minor": 5
}
