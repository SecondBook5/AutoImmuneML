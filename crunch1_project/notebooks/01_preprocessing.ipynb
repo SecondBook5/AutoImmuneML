{
 "cells": [
  {
   "metadata": {},
   "cell_type": "markdown",
   "source": [
    "# 01_Preprocessing\n",
    "\n",
    "### Overview\n",
    "This notebook focuses on data preprocessing for Crunch 1 of the Autoimmune Disease Machine Learning Challenge. The preprocessing step is critical to prepare the raw spatial transcriptomics data and H&E images for downstream modeling tasks. It ensures data quality, consistency, and compatibility with machine learning algorithms.\n",
    "\n",
    "---\n",
    "\n",
    "### Objectives\n",
    "1. **Data Loading**: Load and validate raw data files (e.g., Zarr, H&E images, and gene expression tables).\n",
    "2. **Image Preprocessing**:\n",
    "   - Normalize H&E images.\n",
    "   - Extract nucleus-centered patches for modeling.\n",
    "3. **Gene Expression Preprocessing**:\n",
    "   - Normalize and filter gene expression data.\n",
    "   - Perform dimensionality reduction and clustering.\n",
    "4. **Spatial Feature Engineering**:\n",
    "   - Compute spatial features such as centroids, pairwise distances, and adjacency matrices.\n",
    "5. **Save Outputs**: Store preprocessed data in the `interim` directory for use in downstream tasks.\n",
    "\n",
    "---\n",
    "\n",
    "### Expected Outputs\n",
    "- **Processed H&E Images**:\n",
    "  - Nucleus-centered patches with normalized intensities.\n",
    "- **Processed Gene Expression**:\n",
    "  - Normalized, filtered, and clustered gene expression data.\n",
    "- **Spatial Features**:\n",
    "  - Centroids, distances, and adjacency matrices for nuclei.\n",
    "\n",
    "---\n",
    "\n",
    "### Steps\n",
    "1. **Imports and Configuration**: Load necessary libraries and initialize configurations.\n",
    "2. **Data Loading**: Load raw data using the `DataLoader`.\n",
    "3. **Preprocessing Tasks**:\n",
    "   - Image Preprocessing (`ImagePreprocessor`).\n",
    "   - Gene Expression Preprocessing (`GenePreprocessor`).\n",
    "   - Spatial Preprocessing (`SpatialPreprocessor`).\n",
    "4. **Save Outputs**: Ensure all preprocessed data is saved to the `interim` directory.\n",
    "5. **Validation**: Validate preprocessed data visually or through summary statistics.\n"
   ],
   "id": "22460c92f6888e32"
  },
  {
   "metadata": {},
   "cell_type": "markdown",
   "source": [
    "## Step 1. Imports and Configuration\n",
    "This section initializes the preprocessing environment by:\n",
    "- Importing core libraries and project-specific modules.\n",
    "- Loading the configuration file (`config.yaml`) for path management.\n",
    "- Setting up paths for raw and interim data."
   ],
   "id": "c693aef9c38b8597"
  },
  {
   "metadata": {
    "ExecuteTime": {
     "end_time": "2025-01-14T08:32:00.571713Z",
     "start_time": "2025-01-14T08:31:58.256878Z"
    }
   },
   "cell_type": "code",
   "source": [
    "# Import libraries\n",
    "import os\n",
    "import numpy as np\n",
    "import pandas as pd\n",
    "from matplotlib import pyplot as plt\n",
    "from tqdm import tqdm\n",
    "import spatialdata_plot\n",
    "import spatialdata as sd\n",
    "import scanpy as sc"
   ],
   "id": "5d2c2fa709384905",
   "outputs": [
    {
     "name": "stderr",
     "output_type": "stream",
     "text": [
      "/home/secondbook5/micromamba/envs/autoimmune_ml/lib/python3.11/site-packages/dask/dataframe/__init__.py:31: FutureWarning: The legacy Dask DataFrame implementation is deprecated and will be removed in a future version. Set the configuration option `dataframe.query-planning` to `True` or None to enable the new Dask Dataframe implementation and silence this warning.\n",
      "  warnings.warn(\n"
     ]
    }
   ],
   "execution_count": 1
  },
  {
   "metadata": {
    "ExecuteTime": {
     "end_time": "2025-01-14T08:32:07.563334Z",
     "start_time": "2025-01-14T08:32:07.485804Z"
    }
   },
   "cell_type": "code",
   "source": [
    "# Import project-specific modules\n",
    "from src.config.config_loader import ConfigLoader\n",
    "from src.data_loader import DataLoader\n",
    "from src.preprocessors.image_preprocessor import ImagePreprocessor\n",
    "from src.preprocessors.gene_preprocessor import GenePreprocessor\n",
    "from src.preprocessors.spatial_preprocessor import SpatialPreprocessor"
   ],
   "id": "147f82518a3fdf33",
   "outputs": [],
   "execution_count": 2
  },
  {
   "metadata": {
    "ExecuteTime": {
     "end_time": "2025-01-14T08:32:09.411575Z",
     "start_time": "2025-01-14T08:32:09.402818Z"
    }
   },
   "cell_type": "code",
   "source": [
    "# Load configuration and DataLoader for Crunch1\n",
    "config_path = \"/home/secondbook5/projects/AutoImmuneML/config.yaml\"\n",
    "config = ConfigLoader(config_path=config_path)\n",
    "crunch_name = \"crunch1\"\n",
    "# initialize data loader\n",
    "data_loader = DataLoader(config=config, crunch_name=\"crunch1\")\n",
    "\n",
    "\n",
    "# Set paths\n",
    "raw_dir = config.get_crunch_path(crunch_name, \"raw_dir\")\n",
    "interim_dir = config.get_crunch_path(crunch_name, \"interim_dir\")\n",
    "\n",
    "# Display paths\n",
    "print(f\"Raw directory: {raw_dir}\")\n",
    "print(f\"Interim directory: {interim_dir}\")"
   ],
   "id": "994eda122ee98316",
   "outputs": [
    {
     "name": "stdout",
     "output_type": "stream",
     "text": [
      "Raw directory: /mnt/d/AutoImmuneML/broad-1-autoimmune-crunch1/data\n",
      "Interim directory: /mnt/d/AutoImmuneML/broad-1-autoimmune-crunch1/interim\n"
     ]
    }
   ],
   "execution_count": 3
  },
  {
   "metadata": {},
   "cell_type": "markdown",
   "source": [
    "## 2. Data Loading\n",
    "This section loads the raw data from Zarr files using the `DataLoader`. The data includes:\n",
    "1. **Images**: H&E registered images.\n",
    "2. **Tables**: Gene expression data.\n",
    "\n",
    "We also display a sample image and inspect the structure of the gene expression table to ensure correctness.\n"
   ],
   "id": "aa00dae9a902d079"
  },
  {
   "metadata": {
    "ExecuteTime": {
     "end_time": "2025-01-14T08:26:07.564117Z",
     "start_time": "2025-01-14T08:24:03.405196Z"
    }
   },
   "cell_type": "code",
   "source": [
    "# Load all Zarr files in the raw directory\n",
    "print(f\"[INFO] Loading all Zarr files in directory: {raw_dir}\")\n",
    "all_zarr_data = data_loader.load_zarr([raw_dir])\n",
    "\n",
    "# Display loaded datasets\n",
    "print(f\"[INFO] All loaded datasets: {list(all_zarr_data.keys())}\")\n"
   ],
   "id": "fc8b2b6227a99c17",
   "outputs": [
    {
     "name": "stdout",
     "output_type": "stream",
     "text": [
      "[INFO] Loading all Zarr files in directory: /mnt/d/AutoImmuneML/broad-1-autoimmune-crunch1/data\n"
     ]
    },
    {
     "name": "stderr",
     "output_type": "stream",
     "text": [
      "Loading Zarr files: 100%|██████████| 8/8 [02:04<00:00, 15.51s/it]"
     ]
    },
    {
     "name": "stdout",
     "output_type": "stream",
     "text": [
      "[INFO] All loaded datasets: ['DC1.zarr', 'UC1_NI.zarr', 'DC5.zarr', 'UC1_I.zarr', 'UC6_NI.zarr', 'UC6_I.zarr', 'UC7_I.zarr', 'UC9_I.zarr']\n"
     ]
    },
    {
     "name": "stderr",
     "output_type": "stream",
     "text": [
      "\n"
     ]
    }
   ],
   "execution_count": 4
  },
  {
   "metadata": {
    "ExecuteTime": {
     "end_time": "2025-01-14T08:32:44.419849Z",
     "start_time": "2025-01-14T08:32:13.933116Z"
    }
   },
   "cell_type": "code",
   "source": [
    "# Specify the Zarr file to process\n",
    "single_zarr_key = \"UC1_NI.zarr\"  # Replace with your target file name\n",
    "single_zarr_path = os.path.join(config.get_crunch_path(\"crunch1\", \"raw_dir\"), single_zarr_key)\n",
    "\n",
    "# Load the Zarr file using DataLoader\n",
    "print(f\"[INFO] Loading Zarr file: {single_zarr_path}\")\n",
    "sdata = data_loader.load_zarr(single_zarr_path)\n",
    "\n",
    "# Print the structure of the loaded data\n",
    "print(sdata)\n"
   ],
   "id": "81d45879bd819194",
   "outputs": [
    {
     "name": "stdout",
     "output_type": "stream",
     "text": [
      "[INFO] Loading Zarr file: /mnt/d/AutoImmuneML/broad-1-autoimmune-crunch1/data/UC1_NI.zarr\n"
     ]
    },
    {
     "name": "stderr",
     "output_type": "stream",
     "text": [
      "Loading Zarr files: 100%|██████████| 1/1 [00:24<00:00, 24.81s/it]\n"
     ]
    },
    {
     "name": "stdout",
     "output_type": "stream",
     "text": [
      "{'UC1_NI.zarr': SpatialData object, with associated Zarr store: /mnt/d/AutoImmuneML/broad-1-autoimmune-crunch1/data/UC1_NI.zarr\n",
      "├── Images\n",
      "│     ├── 'DAPI': DataArray[cyx] (1, 51060, 53998)\n",
      "│     ├── 'DAPI_nuc': DataArray[cyx] (1, 51060, 53998)\n",
      "│     ├── 'HE_nuc_original': DataArray[cyx] (1, 21000, 22000)\n",
      "│     ├── 'HE_nuc_registered': DataArray[cyx] (1, 51060, 53998)\n",
      "│     ├── 'HE_original': DataArray[cyx] (3, 21000, 22000)\n",
      "│     ├── 'HE_registered': DataArray[cyx] (3, 51060, 53998)\n",
      "│     ├── 'group': DataArray[cyx] (1, 51060, 53998)\n",
      "│     └── 'group_HEspace': DataArray[cyx] (1, 21000, 22000)\n",
      "├── Points\n",
      "│     └── 'transcripts': DataFrame with shape: (<Delayed>, 8) (2D points)\n",
      "└── Tables\n",
      "      ├── 'anucleus': AnnData (80037, 460)\n",
      "      └── 'cell_id-group': AnnData (93686, 0)\n",
      "with coordinate systems:\n",
      "    ▸ 'global', with elements:\n",
      "        DAPI (Images), DAPI_nuc (Images), HE_nuc_original (Images), HE_nuc_registered (Images), HE_original (Images), HE_registered (Images), group (Images), group_HEspace (Images)\n",
      "    ▸ 'scale_um_to_px', with elements:\n",
      "        transcripts (Points)}\n"
     ]
    }
   ],
   "execution_count": 4
  },
  {
   "metadata": {
    "ExecuteTime": {
     "end_time": "2025-01-14T08:33:52.778210Z",
     "start_time": "2025-01-14T08:33:52.653421Z"
    }
   },
   "cell_type": "code",
   "source": [
    "##  H&E pathology image\n",
    "fig, axes = plt.subplots(1, 2, figsize=(20, 10))\n",
    "axes = axes.flatten()  # Flatten the axes to easily index them\n",
    "\n",
    "sdata.pl.render_images(\"HE_nuc_original\").pl.show(ax=axes[0], title=\"H&E registered image\", coordinate_systems=\"global\")\n",
    "sdata.pl.render_images(\"HE_original\").pl.show(ax=axes[1], title=\"H&E original image\", coordinate_systems=\"global\")"
   ],
   "id": "505a96be63f6a19b",
   "outputs": [
    {
     "ename": "AttributeError",
     "evalue": "'dict' object has no attribute 'pl'",
     "output_type": "error",
     "traceback": [
      "\u001B[0;31m---------------------------------------------------------------------------\u001B[0m",
      "\u001B[0;31mAttributeError\u001B[0m                            Traceback (most recent call last)",
      "Cell \u001B[0;32mIn[7], line 5\u001B[0m\n\u001B[1;32m      2\u001B[0m fig, axes \u001B[38;5;241m=\u001B[39m plt\u001B[38;5;241m.\u001B[39msubplots(\u001B[38;5;241m1\u001B[39m, \u001B[38;5;241m2\u001B[39m, figsize\u001B[38;5;241m=\u001B[39m(\u001B[38;5;241m20\u001B[39m, \u001B[38;5;241m10\u001B[39m))\n\u001B[1;32m      3\u001B[0m axes \u001B[38;5;241m=\u001B[39m axes\u001B[38;5;241m.\u001B[39mflatten()  \u001B[38;5;66;03m# Flatten the axes to easily index them\u001B[39;00m\n\u001B[0;32m----> 5\u001B[0m \u001B[43msdata\u001B[49m\u001B[38;5;241;43m.\u001B[39;49m\u001B[43mpl\u001B[49m\u001B[38;5;241m.\u001B[39mrender_images(\u001B[38;5;124m\"\u001B[39m\u001B[38;5;124mHE_nuc_original\u001B[39m\u001B[38;5;124m\"\u001B[39m)\u001B[38;5;241m.\u001B[39mpl\u001B[38;5;241m.\u001B[39mshow(ax\u001B[38;5;241m=\u001B[39maxes[\u001B[38;5;241m0\u001B[39m], title\u001B[38;5;241m=\u001B[39m\u001B[38;5;124m\"\u001B[39m\u001B[38;5;124mH&E registered image\u001B[39m\u001B[38;5;124m\"\u001B[39m, coordinate_systems\u001B[38;5;241m=\u001B[39m\u001B[38;5;124m\"\u001B[39m\u001B[38;5;124mglobal\u001B[39m\u001B[38;5;124m\"\u001B[39m)\n\u001B[1;32m      6\u001B[0m sdata\u001B[38;5;241m.\u001B[39mpl\u001B[38;5;241m.\u001B[39mrender_images(\u001B[38;5;124m\"\u001B[39m\u001B[38;5;124mHE_original\u001B[39m\u001B[38;5;124m\"\u001B[39m)\u001B[38;5;241m.\u001B[39mpl\u001B[38;5;241m.\u001B[39mshow(ax\u001B[38;5;241m=\u001B[39maxes[\u001B[38;5;241m1\u001B[39m], title\u001B[38;5;241m=\u001B[39m\u001B[38;5;124m\"\u001B[39m\u001B[38;5;124mH&E original image\u001B[39m\u001B[38;5;124m\"\u001B[39m, coordinate_systems\u001B[38;5;241m=\u001B[39m\u001B[38;5;124m\"\u001B[39m\u001B[38;5;124mglobal\u001B[39m\u001B[38;5;124m\"\u001B[39m)\n",
      "\u001B[0;31mAttributeError\u001B[0m: 'dict' object has no attribute 'pl'"
     ]
    },
    {
     "data": {
      "text/plain": [
       "<Figure size 2000x1000 with 2 Axes>"
      ],
      "image/png": "[encoded data removed]"
     },
     "metadata": {},
     "output_type": "display_data"
    }
   ],
   "execution_count": 7
  },
  {
   "metadata": {
    "ExecuteTime": {
     "end_time": "2025-01-14T08:33:02.342083Z",
     "start_time": "2025-01-14T08:33:02.026465Z"
    }
   },
   "cell_type": "code",
   "source": [
    "# Create a 3x2 grid for visualizing images and their corresponding nucleus masks\n",
    "fig, axes = plt.subplots(3, 2, figsize=(20, 30))  # Define the layout: 3 rows, 2 columns\n",
    "axes = axes.flatten()  # Flatten the grid for easy indexing (convert to a 1D array of axes)\n",
    "\n",
    "# Define the image-mask pairs to render side by side\n",
    "image_mask_pairs = [\n",
    "    (\"HE_registered\", \"HE_nuc_registered\"),  # Row 1: H&E Registered image and its nucleus mask\n",
    "    (\"HE_original\", \"HE_nuc_original\"),     # Row 2: H&E Original image and its nucleus mask\n",
    "    (\"DAPI\", \"DAPI_nuc\")                    # Row 3: DAPI image and its nucleus mask\n",
    "]\n",
    "\n",
    "# Loop through the image-mask pairs and render them\n",
    "for idx, (image_key, mask_key) in enumerate(image_mask_pairs):\n",
    "    # --- Left Column: Render the main image ---\n",
    "    if image_key in sdata[single_zarr_key].images.keys():  # Check if the image key exists in the dataset\n",
    "        # Render the image and display it in the appropriate subplot\n",
    "        sdata[single_zarr_key].pl.render_images(image_key).pl.show(\n",
    "            ax=axes[idx * 2],  # Left column for the current row\n",
    "            title=f\"{image_key.replace('_', ' ').title()}\",  # Format the title (replace underscores with spaces)\n",
    "            coordinate_systems=\"global\"  # Use the global coordinate system for alignment\n",
    "        )\n",
    "    else:\n",
    "        # Handle missing image keys by displaying a placeholder\n",
    "        axes[idx * 2].set_title(f\"{image_key}: Not Found\")  # Display a \"Not Found\" title\n",
    "        axes[idx * 2].axis(\"off\")  # Turn off the axis to clean up the appearance\n",
    "\n",
    "    # --- Right Column: Render the corresponding nucleus mask ---\n",
    "    if mask_key in sdata[single_zarr_key].images.keys():  # Check if the mask key exists in the dataset\n",
    "        # Render the mask and display it in the corresponding subplot\n",
    "        sdata[single_zarr_key].pl.render_images(mask_key).pl.show(\n",
    "            ax=axes[idx * 2 + 1],  # Right column for the current row\n",
    "            title=f\"{mask_key.replace('_', ' ').title()}\",  # Format the title (replace underscores with spaces)\n",
    "            coordinate_systems=\"global\"  # Use the global coordinate system for alignment\n",
    "        )\n",
    "    else:\n",
    "        # Handle missing mask keys by displaying a placeholder\n",
    "        axes[idx * 2 + 1].set_title(f\"{mask_key}: Not Found\")  # Display a \"Not Found\" title\n",
    "        axes[idx * 2 + 1].axis(\"off\")  # Turn off the axis to clean up the appearance\n",
    "\n",
    "# Adjust the layout to ensure proper spacing and readability of subplots\n",
    "plt.tight_layout()\n",
    "\n",
    "# Display the figure with the rendered images and masks\n",
    "plt.show()\n"
   ],
   "id": "6b1b56fe22035e28",
   "outputs": [
    {
     "ename": "AttributeError",
     "evalue": "'SpatialData' object has no attribute 'pl'",
     "output_type": "error",
     "traceback": [
      "\u001B[0;31m---------------------------------------------------------------------------\u001B[0m",
      "\u001B[0;31mAttributeError\u001B[0m                            Traceback (most recent call last)",
      "Cell \u001B[0;32mIn[6], line 17\u001B[0m\n\u001B[1;32m     13\u001B[0m \u001B[38;5;28;01mfor\u001B[39;00m idx, (image_key, mask_key) \u001B[38;5;129;01min\u001B[39;00m \u001B[38;5;28menumerate\u001B[39m(image_mask_pairs):\n\u001B[1;32m     14\u001B[0m     \u001B[38;5;66;03m# --- Left Column: Render the main image ---\u001B[39;00m\n\u001B[1;32m     15\u001B[0m     \u001B[38;5;28;01mif\u001B[39;00m image_key \u001B[38;5;129;01min\u001B[39;00m sdata[single_zarr_key]\u001B[38;5;241m.\u001B[39mimages\u001B[38;5;241m.\u001B[39mkeys():  \u001B[38;5;66;03m# Check if the image key exists in the dataset\u001B[39;00m\n\u001B[1;32m     16\u001B[0m         \u001B[38;5;66;03m# Render the image and display it in the appropriate subplot\u001B[39;00m\n\u001B[0;32m---> 17\u001B[0m         \u001B[43msdata\u001B[49m\u001B[43m[\u001B[49m\u001B[43msingle_zarr_key\u001B[49m\u001B[43m]\u001B[49m\u001B[38;5;241;43m.\u001B[39;49m\u001B[43mpl\u001B[49m\u001B[38;5;241m.\u001B[39mrender_images(image_key)\u001B[38;5;241m.\u001B[39mpl\u001B[38;5;241m.\u001B[39mshow(\n\u001B[1;32m     18\u001B[0m             ax\u001B[38;5;241m=\u001B[39maxes[idx \u001B[38;5;241m*\u001B[39m \u001B[38;5;241m2\u001B[39m],  \u001B[38;5;66;03m# Left column for the current row\u001B[39;00m\n\u001B[1;32m     19\u001B[0m             title\u001B[38;5;241m=\u001B[39m\u001B[38;5;124mf\u001B[39m\u001B[38;5;124m\"\u001B[39m\u001B[38;5;132;01m{\u001B[39;00mimage_key\u001B[38;5;241m.\u001B[39mreplace(\u001B[38;5;124m'\u001B[39m\u001B[38;5;124m_\u001B[39m\u001B[38;5;124m'\u001B[39m,\u001B[38;5;250m \u001B[39m\u001B[38;5;124m'\u001B[39m\u001B[38;5;124m \u001B[39m\u001B[38;5;124m'\u001B[39m)\u001B[38;5;241m.\u001B[39mtitle()\u001B[38;5;132;01m}\u001B[39;00m\u001B[38;5;124m\"\u001B[39m,  \u001B[38;5;66;03m# Format the title (replace underscores with spaces)\u001B[39;00m\n\u001B[1;32m     20\u001B[0m             coordinate_systems\u001B[38;5;241m=\u001B[39m\u001B[38;5;124m\"\u001B[39m\u001B[38;5;124mglobal\u001B[39m\u001B[38;5;124m\"\u001B[39m  \u001B[38;5;66;03m# Use the global coordinate system for alignment\u001B[39;00m\n\u001B[1;32m     21\u001B[0m         )\n\u001B[1;32m     22\u001B[0m     \u001B[38;5;28;01melse\u001B[39;00m:\n\u001B[1;32m     23\u001B[0m         \u001B[38;5;66;03m# Handle missing image keys by displaying a placeholder\u001B[39;00m\n\u001B[1;32m     24\u001B[0m         axes[idx \u001B[38;5;241m*\u001B[39m \u001B[38;5;241m2\u001B[39m]\u001B[38;5;241m.\u001B[39mset_title(\u001B[38;5;124mf\u001B[39m\u001B[38;5;124m\"\u001B[39m\u001B[38;5;132;01m{\u001B[39;00mimage_key\u001B[38;5;132;01m}\u001B[39;00m\u001B[38;5;124m: Not Found\u001B[39m\u001B[38;5;124m\"\u001B[39m)  \u001B[38;5;66;03m# Display a \"Not Found\" title\u001B[39;00m\n",
      "\u001B[0;31mAttributeError\u001B[0m: 'SpatialData' object has no attribute 'pl'"
     ]
    },
    {
     "data": {
      "text/plain": [
       "<Figure size 2000x3000 with 6 Axes>"
      ],
      "image/png": "[encoded data removed]"
     },
     "metadata": {},
     "output_type": "display_data"
    }
   ],
   "execution_count": 6
  },
  {
   "metadata": {
    "ExecuteTime": {
     "end_time": "2025-01-14T05:32:28.952466Z",
     "start_time": "2025-01-14T05:25:37.354827Z"
    }
   },
   "cell_type": "code",
   "source": [
    "# Inspect loaded Zarr datasets\n",
    "print(\"[INFO] Inspecting loaded Zarr datasets...\")\n",
    "\n",
    "for key, dataset in zarr_data.items():\n",
    "    print(f\"[INFO] Dataset: {key}\")\n",
    "\n",
    "    # Check available images\n",
    "    if hasattr(dataset, \"images\") and dataset.images.keys():\n",
    "        print(f\"  - Images: {list(dataset.images.keys())}\")\n",
    "\n",
    "        # Display the first sample image for inspection\n",
    "        sample_image_key = list(dataset.images.keys())[0]\n",
    "        sample_image = dataset.images[sample_image_key].values\n",
    "        plt.figure(figsize=(6, 6))\n",
    "        plt.title(f\"{key} - Image: {sample_image_key}\")\n",
    "        plt.imshow(sample_image, cmap=\"gray\")\n",
    "        plt.axis(\"off\")\n",
    "        plt.show()\n",
    "    else:\n",
    "        print(\"  - No images found.\")\n",
    "\n",
    "    # Check available tables\n",
    "    if hasattr(dataset, \"tables\") and dataset.tables.keys():\n",
    "        print(f\"  - Tables: {list(dataset.tables.keys())}\")\n",
    "\n",
    "        # Display a preview of the first table\n",
    "        for table_key in dataset.tables.keys():\n",
    "            table = dataset.tables[table_key]\n",
    "            df = table.to_pandas()\n",
    "            print(f\"\\nSample rows from table '{table_key}':\")\n",
    "            print(df.head(5))\n",
    "    else:\n",
    "        print(\"  - No tables found.\")\n"
   ],
   "id": "47db008d8959750d",
   "outputs": [
    {
     "name": "stdout",
     "output_type": "stream",
     "text": [
      "[INFO] Inspecting loaded Zarr datasets...\n",
      "[INFO] Dataset: UC1_NI.zarr\n",
      "  - Images: ['DAPI', 'DAPI_nuc', 'HE_nuc_original', 'HE_nuc_registered', 'HE_original', 'HE_registered', 'group', 'group_HEspace']\n"
     ]
    }
   ],
   "execution_count": null
  },
  {
   "metadata": {
    "ExecuteTime": {
     "end_time": "2025-01-14T05:19:27.758420Z",
     "start_time": "2025-01-14T05:19:27.031263Z"
    }
   },
   "cell_type": "code",
   "source": [
    "# Display Sample Image and Metadata\n",
    "sample_image = zarr_data[\"UC1_NI\"][\"images\"][\"HE_registered\"]\n",
    "plt.imshow(sample_image)\n",
    "plt.title(\"Sample H&E Registered Image\")\n",
    "plt.show()\n",
    "\n",
    "# Display Sample Gene Expression Data\n",
    "gene_expression = pd.DataFrame(zarr_data[\"UC1_NI\"][\"tables\"][\"anucleus\"].to_numpy())\n",
    "print(gene_expression.head())"
   ],
   "id": "9c053e76c0277715",
   "outputs": [
    {
     "ename": "KeyError",
     "evalue": "'UC1_NI'",
     "output_type": "error",
     "traceback": [
      "\u001B[0;31m---------------------------------------------------------------------------\u001B[0m",
      "\u001B[0;31mKeyError\u001B[0m                                  Traceback (most recent call last)",
      "Cell \u001B[0;32mIn[8], line 2\u001B[0m\n\u001B[1;32m      1\u001B[0m \u001B[38;5;66;03m# Display Sample Image and Metadata\u001B[39;00m\n\u001B[0;32m----> 2\u001B[0m sample_image \u001B[38;5;241m=\u001B[39m \u001B[43mzarr_data\u001B[49m\u001B[43m[\u001B[49m\u001B[38;5;124;43m\"\u001B[39;49m\u001B[38;5;124;43mUC1_NI\u001B[39;49m\u001B[38;5;124;43m\"\u001B[39;49m\u001B[43m]\u001B[49m[\u001B[38;5;124m\"\u001B[39m\u001B[38;5;124mimages\u001B[39m\u001B[38;5;124m\"\u001B[39m][\u001B[38;5;124m\"\u001B[39m\u001B[38;5;124mHE_registered\u001B[39m\u001B[38;5;124m\"\u001B[39m]\n\u001B[1;32m      3\u001B[0m plt\u001B[38;5;241m.\u001B[39mimshow(sample_image)\n\u001B[1;32m      4\u001B[0m plt\u001B[38;5;241m.\u001B[39mtitle(\u001B[38;5;124m\"\u001B[39m\u001B[38;5;124mSample H&E Registered Image\u001B[39m\u001B[38;5;124m\"\u001B[39m)\n",
      "\u001B[0;31mKeyError\u001B[0m: 'UC1_NI'"
     ]
    }
   ],
   "execution_count": 8
  },
  {
   "metadata": {},
   "cell_type": "markdown",
   "source": [
    "## 3. Preprocessing Tasks\n",
    "\n",
    "### 3.1 H&E Image Preprocessing\n",
    "- Normalize stains using Reinhard normalization.\n",
    "- Extract nucleus-centered patches.\n",
    "- Apply augmentations.\n"
   ],
   "id": "4563d13932537af7"
  },
  {
   "metadata": {},
   "cell_type": "code",
   "source": [
    "# Initialize Image Preprocessor\n",
    "image_preprocessor = ImagePreprocessor()\n",
    "\n",
    "# Normalize and Extract Patches\n",
    "for zarr_key, dataset in zarr_data.items():\n",
    "    he_images = dataset[\"images\"][\"HE_registered\"]\n",
    "    he_nuc_masks = dataset[\"images\"][\"HE_nuc_registered\"]\n",
    "\n",
    "    # Example: Normalize\n",
    "    normalized_images = image_preprocessor.normalize_stains(he_images)\n",
    "\n",
    "    # Example: Patch Extraction\n",
    "    patches = image_preprocessor.extract_patches(he_images, he_nuc_masks, patch_size=32)\n",
    "\n",
    "    # Save to Interim Directory\n",
    "    save_path = os.path.join(interim_dir, f\"{zarr_key}_processed_images.npy\")\n",
    "    np.save(save_path, patches)\n"
   ],
   "id": "8d0d0ab88f6cc821",
   "outputs": [],
   "execution_count": null
  },
  {
   "metadata": {},
   "cell_type": "markdown",
   "source": [
    "### 3.2 Gene Expression Preprocessing\n",
    "- Normalize and filter gene expression data.\n",
    "- Log-transform if needed.\n"
   ],
   "id": "b4fe16d24dd3791e"
  },
  {
   "metadata": {},
   "cell_type": "code",
   "source": [
    "# Initialize Gene Preprocessor\n",
    "gene_preprocessor = GenePreprocessor()\n",
    "\n",
    "# Normalize Gene Expression\n",
    "for zarr_key, dataset in zarr_data.items():\n",
    "    anucleus_table = dataset[\"tables\"][\"anucleus\"]\n",
    "    normalized_genes = gene_preprocessor.normalize(anucleus_table)\n",
    "\n",
    "    # Save to Interim Directory\n",
    "    save_path = os.path.join(interim_dir, f\"{zarr_key}_processed_genes.npy\")\n",
    "    np.save(save_path, normalized_genes)\n"
   ],
   "id": "8d939bec198abb1e",
   "outputs": [],
   "execution_count": null
  },
  {
   "metadata": {},
   "cell_type": "markdown",
   "source": [
    "### 3.3 Spatial Feature Engineering\n",
    "- Compute distances between nuclei.\n",
    "- Create adjacency matrices for spatial modeling.\n"
   ],
   "id": "daea59d2369d82b0"
  },
  {
   "metadata": {},
   "cell_type": "code",
   "source": [
    "# Initialize Spatial Preprocessor\n",
    "spatial_preprocessor = SpatialPreprocessor()\n",
    "\n",
    "# Compute Features\n",
    "for zarr_key, dataset in zarr_data.items():\n",
    "    spatial_features = spatial_preprocessor.generate_features(dataset)\n",
    "\n",
    "    # Save to Interim Directory\n",
    "    save_path = os.path.join(interim_dir, f\"{zarr_key}_spatial_features.npy\")\n",
    "    np.save(save_path, spatial_features)\n"
   ],
   "id": "25967d8d944598db",
   "outputs": [],
   "execution_count": null
  },
  {
   "metadata": {},
   "cell_type": "markdown",
   "source": [
    "## 4. Intermediate Validation\n",
    "- Visualize preprocessed images, gene distributions, and spatial features.\n"
   ],
   "id": "c266b49ca4c4eb86"
  },
  {
   "metadata": {},
   "cell_type": "code",
   "source": [
    "# Visualize Preprocessed Images\n",
    "plt.imshow(patches[0])\n",
    "plt.title(\"Example Preprocessed Patch\")\n",
    "plt.show()\n",
    "\n",
    "# Plot Gene Expression Distribution\n",
    "plt.hist(normalized_genes.flatten(), bins=50)\n",
    "plt.title(\"Normalized Gene Expression Distribution\")\n",
    "plt.show()\n"
   ],
   "id": "386f79c84b27bd32",
   "outputs": [],
   "execution_count": null
  },
  {
   "metadata": {},
   "cell_type": "markdown",
   "source": [
    "## 5. Save Preprocessed Data\n",
    "- Save all outputs to the `interim` directory."
   ],
   "id": "7875dd2ad288e2ba"
  },
  {
   "metadata": {},
   "cell_type": "code",
   "source": [
    "# Ensure Preprocessed Data is Stored Correctly\n",
    "assert os.path.exists(interim_dir), \"Interim directory does not exist!\""
   ],
   "id": "3af2efee4404875a",
   "outputs": [],
   "execution_count": null
  },
  {
   "metadata": {},
   "cell_type": "markdown",
   "source": [
    "## 6. Notes and Next Steps\n",
    "- Preprocessing is complete. The next step is Enhanced EDA.\n",
    "- Key Observations:\n",
    "  - ...\n",
    "  - ...\n"
   ],
   "id": "e7e8fdf358d59604"
  }
 ],
 "metadata": {
  "kernelspec": {
   "display_name": "Python 3",
   "language": "python",
   "name": "python3"
  },
  "language_info": {
   "codemirror_mode": {
    "name": "ipython",
    "version": 2
   },
   "file_extension": ".py",
   "mimetype": "text/x-python",
   "name": "python",
   "nbconvert_exporter": "python",
   "pygments_lexer": "ipython2",
   "version": "2.7.6"
  }
 },
 "nbformat": 4,
 "nbformat_minor": 5
}
