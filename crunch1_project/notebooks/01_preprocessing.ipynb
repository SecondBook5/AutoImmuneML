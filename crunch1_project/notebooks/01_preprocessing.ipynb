{
 "cells": [
  {
   "metadata": {},
   "cell_type": "markdown",
   "source": [
    "# 01_Preprocessing\n",
    "\n",
    "### Overview\n",
    "This notebook focuses on data preprocessing for Crunch 1 of the Autoimmune Disease Machine Learning Challenge. The preprocessing step is critical to prepare the raw spatial transcriptomics data and H&E images for downstream modeling tasks. It ensures data quality, consistency, and compatibility with machine learning algorithms.\n",
    "\n",
    "---\n",
    "\n",
    "### Objectives\n",
    "1. **Data Loading**: Load and validate raw data files (e.g., Zarr, H&E images, and gene expression tables).\n",
    "2. **Image Preprocessing**:\n",
    "   - Normalize H&E images.\n",
    "   - Extract nucleus-centered patches for modeling.\n",
    "3. **Gene Expression Preprocessing**:\n",
    "   - Normalize and filter gene expression data.\n",
    "   - Perform dimensionality reduction and clustering.\n",
    "4. **Spatial Feature Engineering**:\n",
    "   - Compute spatial features such as centroids, pairwise distances, and adjacency matrices.\n",
    "5. **Save Outputs**: Store preprocessed data in the `interim` directory for use in downstream tasks.\n",
    "\n",
    "---\n",
    "\n",
    "### Expected Outputs\n",
    "- **Processed H&E Images**:\n",
    "  - Nucleus-centered patches with normalized intensities.\n",
    "- **Processed Gene Expression**:\n",
    "  - Normalized, filtered, and clustered gene expression data.\n",
    "- **Spatial Features**:\n",
    "  - Centroids, distances, and adjacency matrices for nuclei.\n",
    "\n",
    "---\n",
    "\n",
    "### Steps\n",
    "1. **Imports and Configuration**: Load necessary libraries and initialize configurations.\n",
    "2. **Data Loading**: Load raw data using the `DataLoader`.\n",
    "3. **Preprocessing Tasks**:\n",
    "   - Image Preprocessing (`ImagePreprocessor`).\n",
    "   - Gene Expression Preprocessing (`GenePreprocessor`).\n",
    "   - Spatial Preprocessing (`SpatialPreprocessor`).\n",
    "4. **Save Outputs**: Ensure all preprocessed data is saved to the `interim` directory.\n",
    "5. **Validation**: Validate preprocessed data visually or through summary statistics.\n"
   ],
   "id": "22460c92f6888e32"
  },
  {
   "metadata": {},
   "cell_type": "markdown",
   "source": [
    "## 1. Imports and Configuration\n",
    "This section initializes the preprocessing environment by:\n",
    "- Importing core libraries and project-specific modules.\n",
    "- Loading the configuration file (`config.yaml`) for path management.\n",
    "- Setting up paths for raw and interim data."
   ],
   "id": "c693aef9c38b8597"
  },
  {
   "metadata": {
    "ExecuteTime": {
     "end_time": "2025-01-13T20:40:24.111231Z",
     "start_time": "2025-01-13T20:40:24.100874Z"
    }
   },
   "cell_type": "code",
   "source": [
    "# Import libraries\n",
    "import os\n",
    "import numpy as np\n",
    "import pandas as pd\n",
    "from matplotlib import pyplot as plt\n",
    "from tqdm import tqdm\n",
    "import spatialdata as sd\n",
    "import scanpy as sc\n",
    "\n",
    "# Import project-specific modules\n",
    "from src.config.config_loader import ConfigLoader\n",
    "from src.data_loader import DataLoader"
   ],
   "id": "5d2c2fa709384905",
   "outputs": [],
   "execution_count": 2
  },
  {
   "metadata": {
    "ExecuteTime": {
     "end_time": "2025-01-13T20:40:28.783099Z",
     "start_time": "2025-01-13T20:40:28.726927Z"
    }
   },
   "cell_type": "code",
   "source": [
    "# Load configuration and DataLoader for Crunch1\n",
    "config_path = \"/home/secondbook5/projects/AutoImmuneML/config.yaml\"\n",
    "config = ConfigLoader(config_path=config_path)\n",
    "crunch_name = \"crunch1\"\n",
    "# initialize data loader\n",
    "data_loader = DataLoader(config=config, crunch_name=\"crunch1\")\n",
    "\n",
    "\n",
    "# Set paths\n",
    "raw_dir = config.get_crunch_path(crunch_name, \"raw_dir\")\n",
    "interim_dir = config.get_crunch_path(crunch_name, \"interim_dir\")\n",
    "\n",
    "# Display paths\n",
    "print(f\"Raw directory: {raw_dir}\")\n",
    "print(f\"Interim directory: {interim_dir}\")"
   ],
   "id": "994eda122ee98316",
   "outputs": [
    {
     "name": "stdout",
     "output_type": "stream",
     "text": [
      "Raw directory: /mnt/d/AutoImmuneML/broad-1-autoimmune-crunch1/data\n",
      "Interim directory: /mnt/d/AutoImmuneML/broad-1-autoimmune-crunch1/interim\n"
     ]
    }
   ],
   "execution_count": 3
  },
  {
   "metadata": {
    "ExecuteTime": {
     "end_time": "2025-01-13T20:40:39.056377Z",
     "start_time": "2025-01-13T20:40:38.561569Z"
    }
   },
   "cell_type": "code",
   "source": [
    "# Project-Specific Modules\n",
    "from src.loaders.zarr_loader import ZARRLoader\n",
    "from src.preprocessors.image_preprocessor import ImagePreprocessor\n",
    "from src.preprocessors.gene_preprocessor import GenePreprocessor\n",
    "from src.preprocessors.spatial_preprocessor import SpatialPreprocessor\n"
   ],
   "id": "607554abd728c76a",
   "outputs": [],
   "execution_count": 4
  },
  {
   "metadata": {},
   "cell_type": "markdown",
   "source": [
    "## 2. Data Loading\n",
    "This section loads the raw data from Zarr files using the `DataLoader`. The data includes:\n",
    "1. **Images**: H&E registered images.\n",
    "2. **Tables**: Gene expression data.\n",
    "\n",
    "We also display a sample image and inspect the structure of the gene expression table to ensure correctness.\n"
   ],
   "id": "aa00dae9a902d079"
  },
  {
   "metadata": {
    "ExecuteTime": {
     "end_time": "2025-01-13T20:41:34.594100Z",
     "start_time": "2025-01-13T20:41:34.577261Z"
    }
   },
   "cell_type": "code",
   "source": [
    "# Define specific Zarr files to load\n",
    "zarr_keys = [\"UC1_NI.zarr\", \"UC1_I.zarr\"]\n",
    "zarr_paths = [os.path.join(raw_dir, key) for key in zarr_keys]\n",
    "\n",
    "# Load specific Zarr files using the DataLoader\n",
    "print(f\"[INFO] Loading specific Zarr files: {zarr_paths}\")\n",
    "zarr_data = data_loader.load_zarr(zarr_paths)\n",
    "\n",
    "# Display loaded datasets\n",
    "print(f\"[INFO] Loaded datasets: {list(zarr_data.keys())}\")"
   ],
   "id": "81d45879bd819194",
   "outputs": [
    {
     "name": "stderr",
     "output_type": "stream",
     "text": [
      "[ERROR] Path Key '/mnt/d/AutoImmuneML/broad-1-autoimmune-crunch1/data/UC1_NI.zarr' not found in configuration for 'crunch1'\n",
      "[ERROR] Error processing Zarr key '/mnt/d/AutoImmuneML/broad-1-autoimmune-crunch1/data/UC1_NI.zarr': Path Key '/mnt/d/AutoImmuneML/broad-1-autoimmune-crunch1/data/UC1_NI.zarr' not found in configuration for 'crunch1'\n",
      "[ERROR] Path Key '/mnt/d/AutoImmuneML/broad-1-autoimmune-crunch1/data/UC1_I.zarr' not found in configuration for 'crunch1'\n",
      "[ERROR] Error processing Zarr key '/mnt/d/AutoImmuneML/broad-1-autoimmune-crunch1/data/UC1_I.zarr': Path Key '/mnt/d/AutoImmuneML/broad-1-autoimmune-crunch1/data/UC1_I.zarr' not found in configuration for 'crunch1'\n"
     ]
    },
    {
     "name": "stdout",
     "output_type": "stream",
     "text": [
      "[INFO] Loading specific Zarr files: ['/mnt/d/AutoImmuneML/broad-1-autoimmune-crunch1/data/UC1_NI.zarr', '/mnt/d/AutoImmuneML/broad-1-autoimmune-crunch1/data/UC1_I.zarr']\n",
      "Warning: Path key '/mnt/d/AutoImmuneML/broad-1-autoimmune-crunch1/data/UC1_NI.zarr' not found for crunch1. Returning default: None\n",
      "[DEBUG] Retrieved path for key '/mnt/d/AutoImmuneML/broad-1-autoimmune-crunch1/data/UC1_NI.zarr': None\n",
      "Warning: Path key '/mnt/d/AutoImmuneML/broad-1-autoimmune-crunch1/data/UC1_I.zarr' not found for crunch1. Returning default: None\n",
      "[DEBUG] Retrieved path for key '/mnt/d/AutoImmuneML/broad-1-autoimmune-crunch1/data/UC1_I.zarr': None\n",
      "[INFO] Loaded datasets: []\n"
     ]
    }
   ],
   "execution_count": 5
  },
  {
   "metadata": {
    "ExecuteTime": {
     "end_time": "2025-01-13T20:42:02.679005Z",
     "start_time": "2025-01-13T20:42:02.667606Z"
    }
   },
   "cell_type": "code",
   "source": [
    "### Cell 2: Load All Zarr Files in Directory\n",
    "# Load all Zarr files in the raw directory\n",
    "print(f\"[INFO] Loading all Zarr files in directory: {raw_dir}\")\n",
    "all_zarr_data = data_loader.load_zarr([raw_dir])\n",
    "\n",
    "# Display loaded datasets\n",
    "print(f\"[INFO] All loaded datasets: {list(all_zarr_data.keys())}\")\n"
   ],
   "id": "fc8b2b6227a99c17",
   "outputs": [
    {
     "name": "stderr",
     "output_type": "stream",
     "text": [
      "[ERROR] Path Key '/mnt/d/AutoImmuneML/broad-1-autoimmune-crunch1/data' not found in configuration for 'crunch1'\n",
      "[ERROR] Error processing Zarr key '/mnt/d/AutoImmuneML/broad-1-autoimmune-crunch1/data': Path Key '/mnt/d/AutoImmuneML/broad-1-autoimmune-crunch1/data' not found in configuration for 'crunch1'\n"
     ]
    },
    {
     "name": "stdout",
     "output_type": "stream",
     "text": [
      "[INFO] Loading all Zarr files in directory: /mnt/d/AutoImmuneML/broad-1-autoimmune-crunch1/data\n",
      "Warning: Path key '/mnt/d/AutoImmuneML/broad-1-autoimmune-crunch1/data' not found for crunch1. Returning default: None\n",
      "[DEBUG] Retrieved path for key '/mnt/d/AutoImmuneML/broad-1-autoimmune-crunch1/data': None\n",
      "[INFO] All loaded datasets: []\n"
     ]
    }
   ],
   "execution_count": 6
  },
  {
   "metadata": {},
   "cell_type": "code",
   "source": [
    "for key, data in zarr_data.items():\n",
    "    print(f\"[DEBUG] Dataset {key} contains: {list(data.images.keys())} and {list(data.tables.keys())}\")\n"
   ],
   "id": "47db008d8959750d",
   "outputs": [],
   "execution_count": null
  },
  {
   "metadata": {},
   "cell_type": "code",
   "source": [
    "# Step 1: Get the raw_dir path from the configuration\n",
    "raw_dir = config.get_crunch_path(\"crunch1\", \"raw_dir\")\n",
    "\n",
    "# Step 2: Ensure raw_dir exists and is valid\n",
    "assert raw_dir, \"raw_dir is not defined in the configuration or is invalid.\"\n",
    "assert os.path.exists(raw_dir), f\"raw_dir does not exist: {raw_dir}\"\n",
    "\n",
    "# Step 3: Specify which datasets to load (e.g., UC1_NI.zarr, UC1_I.zarr)\n",
    "zarr_filenames = [\"UC1_NI.zarr\", \"UC1_I.zarr\"]\n",
    "zarr_paths = [os.path.join(raw_dir, fname) for fname in zarr_filenames]\n",
    "\n",
    "# Step 4: Load Zarr datasets using the DataLoader\n",
    "zarr_data = data_loader.load_zarr(zarr_paths)\n",
    "\n",
    "# Step 5: Print loaded dataset keys\n",
    "print(f\"Loaded datasets: {list(zarr_data.keys())}\")\n"
   ],
   "id": "493edc15b26f445f",
   "outputs": [],
   "execution_count": null
  },
  {
   "metadata": {},
   "cell_type": "markdown",
   "source": "## 2. Data Loading",
   "id": "19376347e0c9f758"
  },
  {
   "metadata": {},
   "cell_type": "code",
   "source": [
    "# Load Zarr Data\n",
    "zarr_data = data_loader.load_zarr([\"UC1_NI.zarr\", \"UC1_I.zarr\"])\n",
    "print(f\"Loaded datasets: {zarr_data.keys()}\")\n",
    "\n",
    "# Display Sample Image and Metadata\n",
    "sample_image = zarr_data[\"UC1_NI\"][\"images\"][\"HE_registered\"]\n",
    "plt.imshow(sample_image)\n",
    "plt.title(\"Sample H&E Registered Image\")\n",
    "plt.show()\n",
    "\n",
    "# Display Sample Gene Expression Data\n",
    "gene_expression = pd.DataFrame(zarr_data[\"UC1_NI\"][\"tables\"][\"anucleus\"].to_numpy())\n",
    "print(gene_expression.head())"
   ],
   "id": "9c053e76c0277715",
   "outputs": [],
   "execution_count": null
  },
  {
   "metadata": {},
   "cell_type": "markdown",
   "source": [
    "## 3. Preprocessing Tasks\n",
    "\n",
    "### 3.1 H&E Image Preprocessing\n",
    "- Normalize stains using Reinhard normalization.\n",
    "- Extract nucleus-centered patches.\n",
    "- Apply augmentations.\n"
   ],
   "id": "4563d13932537af7"
  },
  {
   "metadata": {},
   "cell_type": "code",
   "source": [
    "# Initialize Image Preprocessor\n",
    "image_preprocessor = ImagePreprocessor()\n",
    "\n",
    "# Normalize and Extract Patches\n",
    "for zarr_key, dataset in zarr_data.items():\n",
    "    he_images = dataset[\"images\"][\"HE_registered\"]\n",
    "    he_nuc_masks = dataset[\"images\"][\"HE_nuc_registered\"]\n",
    "\n",
    "    # Example: Normalize\n",
    "    normalized_images = image_preprocessor.normalize_stains(he_images)\n",
    "\n",
    "    # Example: Patch Extraction\n",
    "    patches = image_preprocessor.extract_patches(he_images, he_nuc_masks, patch_size=32)\n",
    "\n",
    "    # Save to Interim Directory\n",
    "    save_path = os.path.join(interim_dir, f\"{zarr_key}_processed_images.npy\")\n",
    "    np.save(save_path, patches)\n"
   ],
   "id": "8d0d0ab88f6cc821",
   "outputs": [],
   "execution_count": null
  },
  {
   "metadata": {},
   "cell_type": "markdown",
   "source": [
    "### 3.2 Gene Expression Preprocessing\n",
    "- Normalize and filter gene expression data.\n",
    "- Log-transform if needed.\n"
   ],
   "id": "b4fe16d24dd3791e"
  },
  {
   "metadata": {},
   "cell_type": "code",
   "source": [
    "# Initialize Gene Preprocessor\n",
    "gene_preprocessor = GenePreprocessor()\n",
    "\n",
    "# Normalize Gene Expression\n",
    "for zarr_key, dataset in zarr_data.items():\n",
    "    anucleus_table = dataset[\"tables\"][\"anucleus\"]\n",
    "    normalized_genes = gene_preprocessor.normalize(anucleus_table)\n",
    "\n",
    "    # Save to Interim Directory\n",
    "    save_path = os.path.join(interim_dir, f\"{zarr_key}_processed_genes.npy\")\n",
    "    np.save(save_path, normalized_genes)\n"
   ],
   "id": "8d939bec198abb1e",
   "outputs": [],
   "execution_count": null
  },
  {
   "metadata": {},
   "cell_type": "markdown",
   "source": [
    "### 3.3 Spatial Feature Engineering\n",
    "- Compute distances between nuclei.\n",
    "- Create adjacency matrices for spatial modeling.\n"
   ],
   "id": "daea59d2369d82b0"
  },
  {
   "metadata": {},
   "cell_type": "code",
   "source": [
    "# Initialize Spatial Preprocessor\n",
    "spatial_preprocessor = SpatialPreprocessor()\n",
    "\n",
    "# Compute Features\n",
    "for zarr_key, dataset in zarr_data.items():\n",
    "    spatial_features = spatial_preprocessor.generate_features(dataset)\n",
    "\n",
    "    # Save to Interim Directory\n",
    "    save_path = os.path.join(interim_dir, f\"{zarr_key}_spatial_features.npy\")\n",
    "    np.save(save_path, spatial_features)\n"
   ],
   "id": "25967d8d944598db",
   "outputs": [],
   "execution_count": null
  },
  {
   "metadata": {},
   "cell_type": "markdown",
   "source": [
    "## 4. Intermediate Validation\n",
    "- Visualize preprocessed images, gene distributions, and spatial features.\n"
   ],
   "id": "c266b49ca4c4eb86"
  },
  {
   "metadata": {},
   "cell_type": "code",
   "source": [
    "# Visualize Preprocessed Images\n",
    "plt.imshow(patches[0])\n",
    "plt.title(\"Example Preprocessed Patch\")\n",
    "plt.show()\n",
    "\n",
    "# Plot Gene Expression Distribution\n",
    "plt.hist(normalized_genes.flatten(), bins=50)\n",
    "plt.title(\"Normalized Gene Expression Distribution\")\n",
    "plt.show()\n"
   ],
   "id": "386f79c84b27bd32",
   "outputs": [],
   "execution_count": null
  },
  {
   "metadata": {},
   "cell_type": "markdown",
   "source": [
    "## 5. Save Preprocessed Data\n",
    "- Save all outputs to the `interim` directory."
   ],
   "id": "7875dd2ad288e2ba"
  },
  {
   "metadata": {},
   "cell_type": "code",
   "source": [
    "# Ensure Preprocessed Data is Stored Correctly\n",
    "assert os.path.exists(interim_dir), \"Interim directory does not exist!\""
   ],
   "id": "3af2efee4404875a",
   "outputs": [],
   "execution_count": null
  },
  {
   "metadata": {},
   "cell_type": "markdown",
   "source": [
    "## 6. Notes and Next Steps\n",
    "- Preprocessing is complete. The next step is Enhanced EDA.\n",
    "- Key Observations:\n",
    "  - ...\n",
    "  - ...\n"
   ],
   "id": "e7e8fdf358d59604"
  }
 ],
 "metadata": {
  "kernelspec": {
   "display_name": "Python 3",
   "language": "python",
   "name": "python3"
  },
  "language_info": {
   "codemirror_mode": {
    "name": "ipython",
    "version": 2
   },
   "file_extension": ".py",
   "mimetype": "text/x-python",
   "name": "python",
   "nbconvert_exporter": "python",
   "pygments_lexer": "ipython2",
   "version": "2.7.6"
  }
 },
 "nbformat": 4,
 "nbformat_minor": 5
}
